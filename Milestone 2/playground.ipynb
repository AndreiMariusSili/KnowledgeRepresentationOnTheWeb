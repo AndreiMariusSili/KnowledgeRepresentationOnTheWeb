{
 "cells": [
  {
   "cell_type": "code",
   "execution_count": 1,
   "metadata": {},
   "outputs": [],
   "source": [
    "import rdflib\n",
    "import pickle\n",
    "import urllib.parse\n"
   ]
  },
  {
   "cell_type": "code",
   "execution_count": 4,
   "metadata": {},
   "outputs": [],
   "source": [
    "\n",
    "graph: rdflib.Graph = pickle.load(open('./Milestone 2/Data/LMDB/Graph.pkl', 'rb'))\n",
    "\n",
    "print('Graph loaded.')"
   ]
  },
  {
   "cell_type": "code",
   "execution_count": 6,
   "metadata": {},
   "outputs": [
    {
     "name": "stdout",
     "output_type": "stream",
     "text": [
      "http://dbpedia.org/resource/The_Children_of_Huang_Shi\nhttp://mpii.de/yago/resource/The_Children_of_Huang_Shi\nhttp://dbpedia.org/resource/The_Last_American_Hero\nhttp://mpii.de/yago/resource/The_Last_American_Hero\nhttp://dbpedia.org/resource/He_Leads%2C_Others_Follow\nhttp://mpii.de/yago/resource/He_Leads%2C_Others_Follow\nhttp://mpii.de/yago/resource/Hatter%27s_Castle_%28film%29\nhttp://dbpedia.org/resource/Hatter%27s_Castle_%28film%29\nhttp://mpii.de/yago/resource/The_Pursuit_of_D._B._Cooper\nhttp://dbpedia.org/resource/The_Pursuit_of_D._B._Cooper\n"
     ]
    }
   ],
   "source": [
    "results = graph.query(\"\"\"\n",
    "    PREFIX owl: <http://www.w3.org/2002/07/owl#>\n",
    "    PREFIX lmdbm: <http://data.linkedmdb.org/resource/movie/>\n",
    "    SELECT ?uri WHERE {\n",
    "        ?sub rdf:type lmdbm:film .\n",
    "        ?sub owl:sameAs ?uri .\n",
    "    }\n",
    "\"\"\")\n",
    "\n",
    "i = 0\n",
    "for result in results:\n",
    "    print(result[0])\n",
    "    i += 1\n",
    "    if i == 10:\n",
    "        break\n"
   ]
  },
  {
   "cell_type": "code",
   "execution_count": 96,
   "metadata": {},
   "outputs": [],
   "source": []
  },
  {
   "cell_type": "code",
   "execution_count": null,
   "metadata": {},
   "outputs": [],
   "source": []
  }
 ],
 "metadata": {
  "kernelspec": {
   "display_name": "Python 2",
   "language": "python",
   "name": "python2"
  },
  "language_info": {
   "codemirror_mode": {
    "name": "ipython",
    "version": 2
   },
   "file_extension": ".py",
   "mimetype": "text/x-python",
   "name": "python",
   "nbconvert_exporter": "python",
   "pygments_lexer": "ipython2",
   "version": "2.7.6"
  }
 },
 "nbformat": 4,
 "nbformat_minor": 0
}
