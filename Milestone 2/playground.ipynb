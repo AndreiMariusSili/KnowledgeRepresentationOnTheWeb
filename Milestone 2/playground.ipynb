{
 "cells": [
  {
   "cell_type": "code",
   "execution_count": 8,
   "metadata": {},
   "outputs": [],
   "source": [
    "import rdflib\n",
    "import pickle"
   ]
  },
  {
   "cell_type": "code",
   "execution_count": 12,
   "metadata": {},
   "outputs": [
    {
     "name": "stderr",
     "output_type": "stream",
     "text": [
      "WARNING:rdflib.term:file:///Users/Play/Code/AI/knowledge-representation-2/<http:/lodlaundromat.org/.well-known/genid/b4df02b7dd06a06ab47099b76a9233ff#B192884360definedClass> <http://rdfs.org/ns/void#class> <http://dbpedia.org/ontology/Film> .\n does not look like a valid URI, trying to serialize this will break.\n"
     ]
    },
    {
     "name": "stderr",
     "output_type": "stream",
     "text": [
      "WARNING:rdflib.term:file:///Users/Play/Code/AI/knowledge-representation-2/<http:/lodlaundromat.org/.well-known/genid/b4df02b7dd06a06ab47099b76a9233ff does not look like a valid URI, trying to serialize this will break.\n"
     ]
    },
    {
     "name": "stderr",
     "output_type": "stream",
     "text": [
      "WARNING:rdflib.term:file:///Users/Play/Code/AI/knowledge-representation-2/<http:/lodlaundromat.org/.well-known/genid/b4df02b7dd06a06ab47099b76a9233ff#B213334360definedClass> <http://rdfs.org/ns/void#class> <http://dbpedia.org/ontology/Film> .\n does not look like a valid URI, trying to serialize this will break.\n"
     ]
    },
    {
     "name": "stderr",
     "output_type": "stream",
     "text": [
      "WARNING:rdflib.term:file:///Users/Play/Code/AI/knowledge-representation-2/<http:/lodlaundromat.org/.well-known/genid/b4df02b7dd06a06ab47099b76a9233ff does not look like a valid URI, trying to serialize this will break.\n"
     ]
    },
    {
     "name": "stderr",
     "output_type": "stream",
     "text": [
      "WARNING:rdflib.term:file:///Users/Play/Code/AI/knowledge-representation-2/<http:/lodlaundromat.org/.well-known/genid/b4df02b7dd06a06ab47099b76a9233ff#B310144360definedClass> <http://rdfs.org/ns/void#class> <http://dbpedia.org/ontology/Film> .\n does not look like a valid URI, trying to serialize this will break.\n"
     ]
    },
    {
     "name": "stderr",
     "output_type": "stream",
     "text": [
      "WARNING:rdflib.term:file:///Users/Play/Code/AI/knowledge-representation-2/<http:/lodlaundromat.org/.well-known/genid/b4df02b7dd06a06ab47099b76a9233ff does not look like a valid URI, trying to serialize this will break.\n"
     ]
    },
    {
     "name": "stderr",
     "output_type": "stream",
     "text": [
      "WARNING:rdflib.term:file:///Users/Play/Code/AI/knowledge-representation-2/<http:/ar.dbpedia.org/resource/(500)_يوم_من_سمر_(فيلم)> <http:/www.w3.org/1999/02/22-rdf-syntax-ns#type> <http://dbpedia.org/ontology/Film> .\n does not look like a valid URI, trying to serialize this will break.\n"
     ]
    },
    {
     "name": "stderr",
     "output_type": "stream",
     "text": [
      "WARNING:rdflib.term:file:///Users/Play/Code/AI/knowledge-representation-2/<http:/ar.dbpedia.org/resource/(500)_يوم_من_سمر_(فيلم)> <http:/www.w3.org/1999/02/22-rdf-syntax-ns does not look like a valid URI, trying to serialize this will break.\n"
     ]
    },
    {
     "name": "stderr",
     "output_type": "stream",
     "text": [
      "WARNING:rdflib.term:file:///Users/Play/Code/AI/knowledge-representation-2/<http:/ar.dbpedia.org/resource/1000_مبروك_(فيلم)> <http:/www.w3.org/1999/02/22-rdf-syntax-ns#type> <http://dbpedia.org/ontology/Film> .\n does not look like a valid URI, trying to serialize this will break.\n"
     ]
    },
    {
     "name": "stderr",
     "output_type": "stream",
     "text": [
      "WARNING:rdflib.term:file:///Users/Play/Code/AI/knowledge-representation-2/<http:/ar.dbpedia.org/resource/1000_مبروك_(فيلم)> <http:/www.w3.org/1999/02/22-rdf-syntax-ns does not look like a valid URI, trying to serialize this will break.\n"
     ]
    },
    {
     "name": "stderr",
     "output_type": "stream",
     "text": [
      "WARNING:rdflib.term:file:///Users/Play/Code/AI/knowledge-representation-2/<http:/ar.dbpedia.org/resource/102_دالميشن_(فيلم)> <http:/www.w3.org/1999/02/22-rdf-syntax-ns#type> <http://dbpedia.org/ontology/Film> .\n does not look like a valid URI, trying to serialize this will break.\n"
     ]
    },
    {
     "name": "stderr",
     "output_type": "stream",
     "text": [
      "WARNING:rdflib.term:file:///Users/Play/Code/AI/knowledge-representation-2/<http:/ar.dbpedia.org/resource/102_دالميشن_(فيلم)> <http:/www.w3.org/1999/02/22-rdf-syntax-ns does not look like a valid URI, trying to serialize this will break.\n"
     ]
    },
    {
     "name": "stderr",
     "output_type": "stream",
     "text": [
      "WARNING:rdflib.term:file:///Users/Play/Code/AI/knowledge-representation-2/<http:/ar.dbpedia.org/resource/10_أشياء_أكرهها_بشأنك_(فيلم)> <http:/www.w3.org/1999/02/22-rdf-syntax-ns#type> <http://dbpedia.org/ontology/Film> .\n does not look like a valid URI, trying to serialize this will break.\n"
     ]
    },
    {
     "name": "stderr",
     "output_type": "stream",
     "text": [
      "WARNING:rdflib.term:file:///Users/Play/Code/AI/knowledge-representation-2/<http:/ar.dbpedia.org/resource/10_أشياء_أكرهها_بشأنك_(فيلم)> <http:/www.w3.org/1999/02/22-rdf-syntax-ns does not look like a valid URI, trying to serialize this will break.\n"
     ]
    },
    {
     "name": "stderr",
     "output_type": "stream",
     "text": [
      "WARNING:rdflib.term:file:///Users/Play/Code/AI/knowledge-representation-2/<http:/ar.dbpedia.org/resource/127_ساعة_(فيلم)> <http:/www.w3.org/1999/02/22-rdf-syntax-ns#type> <http://dbpedia.org/ontology/Film> .\n does not look like a valid URI, trying to serialize this will break.\n"
     ]
    },
    {
     "name": "stderr",
     "output_type": "stream",
     "text": [
      "WARNING:rdflib.term:file:///Users/Play/Code/AI/knowledge-representation-2/<http:/ar.dbpedia.org/resource/127_ساعة_(فيلم)> <http:/www.w3.org/1999/02/22-rdf-syntax-ns does not look like a valid URI, trying to serialize this will break.\n"
     ]
    },
    {
     "name": "stderr",
     "output_type": "stream",
     "text": [
      "WARNING:rdflib.term:file:///Users/Play/Code/AI/knowledge-representation-2/<http:/ar.dbpedia.org/resource/12_(فيلم)> <http:/www.w3.org/1999/02/22-rdf-syntax-ns#type> <http://dbpedia.org/ontology/Film> .\n does not look like a valid URI, trying to serialize this will break.\n"
     ]
    },
    {
     "name": "stderr",
     "output_type": "stream",
     "text": [
      "WARNING:rdflib.term:file:///Users/Play/Code/AI/knowledge-representation-2/<http:/ar.dbpedia.org/resource/12_(فيلم)> <http:/www.w3.org/1999/02/22-rdf-syntax-ns does not look like a valid URI, trying to serialize this will break.\n"
     ]
    },
    {
     "name": "stderr",
     "output_type": "stream",
     "text": [
      "WARNING:rdflib.term:file:///Users/Play/Code/AI/knowledge-representation-2/<http:/ar.dbpedia.org/resource/131_أشغال_(فيلم)> <http:/www.w3.org/1999/02/22-rdf-syntax-ns#type> <http://dbpedia.org/ontology/Film> .\n does not look like a valid URI, trying to serialize this will break.\n"
     ]
    },
    {
     "name": "stderr",
     "output_type": "stream",
     "text": [
      "WARNING:rdflib.term:file:///Users/Play/Code/AI/knowledge-representation-2/<http:/ar.dbpedia.org/resource/131_أشغال_(فيلم)> <http:/www.w3.org/1999/02/22-rdf-syntax-ns does not look like a valid URI, trying to serialize this will break.\n"
     ]
    },
    {
     "name": "stderr",
     "output_type": "stream",
     "text": [
      "WARNING:rdflib.term:file:///Users/Play/Code/AI/knowledge-representation-2/<http:/ar.dbpedia.org/resource/13_أصبحت_30_(فيلم)> <http:/www.w3.org/1999/02/22-rdf-syntax-ns#type> <http://dbpedia.org/ontology/Film> .\n does not look like a valid URI, trying to serialize this will break.\n"
     ]
    },
    {
     "name": "stderr",
     "output_type": "stream",
     "text": [
      "WARNING:rdflib.term:file:///Users/Play/Code/AI/knowledge-representation-2/<http:/ar.dbpedia.org/resource/13_أصبحت_30_(فيلم)> <http:/www.w3.org/1999/02/22-rdf-syntax-ns does not look like a valid URI, trying to serialize this will break.\n"
     ]
    },
    {
     "name": "stderr",
     "output_type": "stream",
     "text": [
      "WARNING:rdflib.term:file:///Users/Play/Code/AI/knowledge-representation-2/<http:/ar.dbpedia.org/resource/13_كدبة_وكدبة_(فيلم)> <http:/www.w3.org/1999/02/22-rdf-syntax-ns#type> <http://dbpedia.org/ontology/Film> .\n does not look like a valid URI, trying to serialize this will break.\n"
     ]
    },
    {
     "name": "stderr",
     "output_type": "stream",
     "text": [
      "WARNING:rdflib.term:file:///Users/Play/Code/AI/knowledge-representation-2/<http:/ar.dbpedia.org/resource/13_كدبة_وكدبة_(فيلم)> <http:/www.w3.org/1999/02/22-rdf-syntax-ns does not look like a valid URI, trying to serialize this will break.\n"
     ]
    },
    {
     "name": "stderr",
     "output_type": "stream",
     "text": [
      "WARNING:rdflib.term:file:///Users/Play/Code/AI/knowledge-representation-2/<http:/ar.dbpedia.org/resource/1408_(فيلم)> <http:/www.w3.org/1999/02/22-rdf-syntax-ns#type> <http://dbpedia.org/ontology/Film> .\n does not look like a valid URI, trying to serialize this will break.\n"
     ]
    },
    {
     "name": "stderr",
     "output_type": "stream",
     "text": [
      "WARNING:rdflib.term:file:///Users/Play/Code/AI/knowledge-representation-2/<http:/ar.dbpedia.org/resource/1408_(فيلم)> <http:/www.w3.org/1999/02/22-rdf-syntax-ns does not look like a valid URI, trying to serialize this will break.\n"
     ]
    },
    {
     "name": "stderr",
     "output_type": "stream",
     "text": [
      "WARNING:rdflib.term:file:///Users/Play/Code/AI/knowledge-representation-2/<http:/ar.dbpedia.org/resource/17_مرة_أخرى_(فيلم)> <http:/www.w3.org/1999/02/22-rdf-syntax-ns#type> <http://dbpedia.org/ontology/Film> .\n does not look like a valid URI, trying to serialize this will break.\n"
     ]
    },
    {
     "name": "stderr",
     "output_type": "stream",
     "text": [
      "WARNING:rdflib.term:file:///Users/Play/Code/AI/knowledge-representation-2/<http:/ar.dbpedia.org/resource/17_مرة_أخرى_(فيلم)> <http:/www.w3.org/1999/02/22-rdf-syntax-ns does not look like a valid URI, trying to serialize this will break.\n"
     ]
    },
    {
     "name": "stderr",
     "output_type": "stream",
     "text": [
      "WARNING:rdflib.term:file:///Users/Play/Code/AI/knowledge-representation-2/<http:/ar.dbpedia.org/resource/187_(فيلم)> <http:/www.w3.org/1999/02/22-rdf-syntax-ns#type> <http://dbpedia.org/ontology/Film> .\n does not look like a valid URI, trying to serialize this will break.\n"
     ]
    },
    {
     "name": "stderr",
     "output_type": "stream",
     "text": [
      "WARNING:rdflib.term:file:///Users/Play/Code/AI/knowledge-representation-2/<http:/ar.dbpedia.org/resource/187_(فيلم)> <http:/www.w3.org/1999/02/22-rdf-syntax-ns does not look like a valid URI, trying to serialize this will break.\n"
     ]
    },
    {
     "name": "stderr",
     "output_type": "stream",
     "text": [
      "WARNING:rdflib.term:file:///Users/Play/Code/AI/knowledge-representation-2/<http:/ar.dbpedia.org/resource/1984_(إعلان)> <http:/www.w3.org/1999/02/22-rdf-syntax-ns#type> <http://dbpedia.org/ontology/Film> .\n does not look like a valid URI, trying to serialize this will break.\n"
     ]
    },
    {
     "name": "stderr",
     "output_type": "stream",
     "text": [
      "WARNING:rdflib.term:file:///Users/Play/Code/AI/knowledge-representation-2/<http:/ar.dbpedia.org/resource/1984_(إعلان)> <http:/www.w3.org/1999/02/22-rdf-syntax-ns does not look like a valid URI, trying to serialize this will break.\n"
     ]
    },
    {
     "name": "stderr",
     "output_type": "stream",
     "text": [
      "WARNING:rdflib.term:file:///Users/Play/Code/AI/knowledge-representation-2/<http:/ar.dbpedia.org/resource/2012_(فيلم)> <http:/www.w3.org/1999/02/22-rdf-syntax-ns#type> <http://dbpedia.org/ontology/Film> .\n does not look like a valid URI, trying to serialize this will break.\n"
     ]
    },
    {
     "name": "stderr",
     "output_type": "stream",
     "text": [
      "WARNING:rdflib.term:file:///Users/Play/Code/AI/knowledge-representation-2/<http:/ar.dbpedia.org/resource/2012_(فيلم)> <http:/www.w3.org/1999/02/22-rdf-syntax-ns does not look like a valid URI, trying to serialize this will break.\n"
     ]
    },
    {
     "name": "stderr",
     "output_type": "stream",
     "text": [
      "WARNING:rdflib.term:file:///Users/Play/Code/AI/knowledge-representation-2/<http:/ar.dbpedia.org/resource/21_(فيلم)> <http:/www.w3.org/1999/02/22-rdf-syntax-ns#type> <http://dbpedia.org/ontology/Film> .\n does not look like a valid URI, trying to serialize this will break.\n"
     ]
    },
    {
     "name": "stderr",
     "output_type": "stream",
     "text": [
      "WARNING:rdflib.term:file:///Users/Play/Code/AI/knowledge-representation-2/<http:/ar.dbpedia.org/resource/21_(فيلم)> <http:/www.w3.org/1999/02/22-rdf-syntax-ns does not look like a valid URI, trying to serialize this will break.\n"
     ]
    },
    {
     "name": "stderr",
     "output_type": "stream",
     "text": [
      "WARNING:rdflib.term:file:///Users/Play/Code/AI/knowledge-representation-2/<http:/ar.dbpedia.org/resource/21_شارع_جامب_(فيلم)> <http:/www.w3.org/1999/02/22-rdf-syntax-ns#type> <http://dbpedia.org/ontology/Film> .\n does not look like a valid URI, trying to serialize this will break.\n"
     ]
    },
    {
     "name": "stderr",
     "output_type": "stream",
     "text": [
      "WARNING:rdflib.term:file:///Users/Play/Code/AI/knowledge-representation-2/<http:/ar.dbpedia.org/resource/21_شارع_جامب_(فيلم)> <http:/www.w3.org/1999/02/22-rdf-syntax-ns does not look like a valid URI, trying to serialize this will break.\n"
     ]
    },
    {
     "name": "stderr",
     "output_type": "stream",
     "text": [
      "WARNING:rdflib.term:file:///Users/Play/Code/AI/knowledge-representation-2/<http:/ar.dbpedia.org/resource/21_غرام> <http:/www.w3.org/1999/02/22-rdf-syntax-ns#type> <http://dbpedia.org/ontology/Film> .\n does not look like a valid URI, trying to serialize this will break.\n"
     ]
    },
    {
     "name": "stderr",
     "output_type": "stream",
     "text": [
      "WARNING:rdflib.term:file:///Users/Play/Code/AI/knowledge-representation-2/<http:/ar.dbpedia.org/resource/21_غرام> <http:/www.w3.org/1999/02/22-rdf-syntax-ns does not look like a valid URI, trying to serialize this will break.\n"
     ]
    },
    {
     "name": "stderr",
     "output_type": "stream",
     "text": [
      "WARNING:rdflib.term:file:///Users/Play/Code/AI/knowledge-representation-2/<http:/ar.dbpedia.org/resource/27_فستانا_(فيلم)> <http:/www.w3.org/1999/02/22-rdf-syntax-ns#type> <http://dbpedia.org/ontology/Film> .\n does not look like a valid URI, trying to serialize this will break.\n"
     ]
    },
    {
     "name": "stderr",
     "output_type": "stream",
     "text": [
      "WARNING:rdflib.term:file:///Users/Play/Code/AI/knowledge-representation-2/<http:/ar.dbpedia.org/resource/27_فستانا_(فيلم)> <http:/www.w3.org/1999/02/22-rdf-syntax-ns does not look like a valid URI, trying to serialize this will break.\n"
     ]
    },
    {
     "name": "stderr",
     "output_type": "stream",
     "text": [
      "WARNING:rdflib.term:file:///Users/Play/Code/AI/knowledge-representation-2/<http:/ar.dbpedia.org/resource/28_يوما_(فيلم)> <http:/www.w3.org/1999/02/22-rdf-syntax-ns#type> <http://dbpedia.org/ontology/Film> .\n does not look like a valid URI, trying to serialize this will break.\n"
     ]
    },
    {
     "name": "stderr",
     "output_type": "stream",
     "text": [
      "WARNING:rdflib.term:file:///Users/Play/Code/AI/knowledge-representation-2/<http:/ar.dbpedia.org/resource/28_يوما_(فيلم)> <http:/www.w3.org/1999/02/22-rdf-syntax-ns does not look like a valid URI, trying to serialize this will break.\n"
     ]
    },
    {
     "name": "stderr",
     "output_type": "stream",
     "text": [
      "WARNING:rdflib.term:file:///Users/Play/Code/AI/knowledge-representation-2/<http:/ar.dbpedia.org/resource/300_(فيلم)> <http:/www.w3.org/1999/02/22-rdf-syntax-ns#type> <http://dbpedia.org/ontology/Film> .\n does not look like a valid URI, trying to serialize this will break.\n"
     ]
    },
    {
     "name": "stderr",
     "output_type": "stream",
     "text": [
      "WARNING:rdflib.term:file:///Users/Play/Code/AI/knowledge-representation-2/<http:/ar.dbpedia.org/resource/300_(فيلم)> <http:/www.w3.org/1999/02/22-rdf-syntax-ns does not look like a valid URI, trying to serialize this will break.\n"
     ]
    },
    {
     "name": "stderr",
     "output_type": "stream",
     "text": [
      "WARNING:rdflib.term:file:///Users/Play/Code/AI/knowledge-representation-2/<http:/ar.dbpedia.org/resource/30_فبراير_(فيلم)> <http:/www.w3.org/1999/02/22-rdf-syntax-ns#type> <http://dbpedia.org/ontology/Film> .\n does not look like a valid URI, trying to serialize this will break.\n"
     ]
    },
    {
     "name": "stderr",
     "output_type": "stream",
     "text": [
      "WARNING:rdflib.term:file:///Users/Play/Code/AI/knowledge-representation-2/<http:/ar.dbpedia.org/resource/30_فبراير_(فيلم)> <http:/www.w3.org/1999/02/22-rdf-syntax-ns does not look like a valid URI, trying to serialize this will break.\n"
     ]
    },
    {
     "name": "stderr",
     "output_type": "stream",
     "text": [
      "WARNING:rdflib.term:file:///Users/Play/Code/AI/knowledge-representation-2/<http:/ar.dbpedia.org/resource/30_يوم_في_السجن_(فيلم)> <http:/www.w3.org/1999/02/22-rdf-syntax-ns#type> <http://dbpedia.org/ontology/Film> .\n does not look like a valid URI, trying to serialize this will break.\n"
     ]
    },
    {
     "name": "stderr",
     "output_type": "stream",
     "text": [
      "WARNING:rdflib.term:file:///Users/Play/Code/AI/knowledge-representation-2/<http:/ar.dbpedia.org/resource/30_يوم_في_السجن_(فيلم)> <http:/www.w3.org/1999/02/22-rdf-syntax-ns does not look like a valid URI, trying to serialize this will break.\n"
     ]
    },
    {
     "name": "stderr",
     "output_type": "stream",
     "text": [
      "WARNING:rdflib.term:file:///Users/Play/Code/AI/knowledge-representation-2/<http:/ar.dbpedia.org/resource/365_يوم_سعادة> <http:/www.w3.org/1999/02/22-rdf-syntax-ns#type> <http://dbpedia.org/ontology/Film> .\n does not look like a valid URI, trying to serialize this will break.\n"
     ]
    },
    {
     "name": "stderr",
     "output_type": "stream",
     "text": [
      "WARNING:rdflib.term:file:///Users/Play/Code/AI/knowledge-representation-2/<http:/ar.dbpedia.org/resource/365_يوم_سعادة> <http:/www.w3.org/1999/02/22-rdf-syntax-ns does not look like a valid URI, trying to serialize this will break.\n"
     ]
    },
    {
     "name": "stderr",
     "output_type": "stream",
     "text": [
      "WARNING:rdflib.term:file:///Users/Play/Code/AI/knowledge-representation-2/<http:/ar.dbpedia.org/resource/365_يوم_سعادة_(فيلم)> <http:/www.w3.org/1999/02/22-rdf-syntax-ns#type> <http://dbpedia.org/ontology/Film> .\n does not look like a valid URI, trying to serialize this will break.\n"
     ]
    },
    {
     "name": "stderr",
     "output_type": "stream",
     "text": [
      "WARNING:rdflib.term:file:///Users/Play/Code/AI/knowledge-representation-2/<http:/ar.dbpedia.org/resource/365_يوم_سعادة_(فيلم)> <http:/www.w3.org/1999/02/22-rdf-syntax-ns does not look like a valid URI, trying to serialize this will break.\n"
     ]
    },
    {
     "name": "stderr",
     "output_type": "stream",
     "text": [
      "WARNING:rdflib.term:file:///Users/Play/Code/AI/knowledge-representation-2/<http:/ar.dbpedia.org/resource/3_لصوص_(فيلم)> <http:/www.w3.org/1999/02/22-rdf-syntax-ns#type> <http://dbpedia.org/ontology/Film> .\n does not look like a valid URI, trying to serialize this will break.\n"
     ]
    },
    {
     "name": "stderr",
     "output_type": "stream",
     "text": [
      "WARNING:rdflib.term:file:///Users/Play/Code/AI/knowledge-representation-2/<http:/ar.dbpedia.org/resource/3_لصوص_(فيلم)> <http:/www.w3.org/1999/02/22-rdf-syntax-ns does not look like a valid URI, trying to serialize this will break.\n"
     ]
    },
    {
     "name": "stderr",
     "output_type": "stream",
     "text": [
      "WARNING:rdflib.term:file:///Users/Play/Code/AI/knowledge-representation-2/<http:/ar.dbpedia.org/resource/45_يوم_(فيلم)> <http:/www.w3.org/1999/02/22-rdf-syntax-ns#type> <http://dbpedia.org/ontology/Film> .\n does not look like a valid URI, trying to serialize this will break.\n"
     ]
    },
    {
     "name": "stderr",
     "output_type": "stream",
     "text": [
      "WARNING:rdflib.term:file:///Users/Play/Code/AI/knowledge-representation-2/<http:/ar.dbpedia.org/resource/45_يوم_(فيلم)> <http:/www.w3.org/1999/02/22-rdf-syntax-ns does not look like a valid URI, trying to serialize this will break.\n"
     ]
    },
    {
     "name": "stderr",
     "output_type": "stream",
     "text": [
      "WARNING:rdflib.term:file:///Users/Play/Code/AI/knowledge-representation-2/<http:/ar.dbpedia.org/resource/4_أشهر،_3_أسابيع_ويومان> <http:/www.w3.org/1999/02/22-rdf-syntax-ns#type> <http://dbpedia.org/ontology/Film> .\n does not look like a valid URI, trying to serialize this will break.\n"
     ]
    },
    {
     "name": "stderr",
     "output_type": "stream",
     "text": [
      "WARNING:rdflib.term:file:///Users/Play/Code/AI/knowledge-representation-2/<http:/ar.dbpedia.org/resource/4_أشهر،_3_أسابيع_ويومان> <http:/www.w3.org/1999/02/22-rdf-syntax-ns does not look like a valid URI, trying to serialize this will break.\n"
     ]
    },
    {
     "name": "stderr",
     "output_type": "stream",
     "text": [
      "WARNING:rdflib.term:file:///Users/Play/Code/AI/knowledge-representation-2/<http:/ar.dbpedia.org/resource/50/50_(فيلم)> <http:/www.w3.org/1999/02/22-rdf-syntax-ns#type> <http://dbpedia.org/ontology/Film> .\n does not look like a valid URI, trying to serialize this will break.\n"
     ]
    },
    {
     "name": "stderr",
     "output_type": "stream",
     "text": [
      "WARNING:rdflib.term:file:///Users/Play/Code/AI/knowledge-representation-2/<http:/ar.dbpedia.org/resource/50/50_(فيلم)> <http:/www.w3.org/1999/02/22-rdf-syntax-ns does not look like a valid URI, trying to serialize this will break.\n"
     ]
    },
    {
     "name": "stderr",
     "output_type": "stream",
     "text": [
      "WARNING:rdflib.term:file:///Users/Play/Code/AI/knowledge-representation-2/<http:/ar.dbpedia.org/resource/55_إسعاف_(فيلم)> <http:/www.w3.org/1999/02/22-rdf-syntax-ns#type> <http://dbpedia.org/ontology/Film> .\n does not look like a valid URI, trying to serialize this will break.\n"
     ]
    },
    {
     "name": "stderr",
     "output_type": "stream",
     "text": [
      "WARNING:rdflib.term:file:///Users/Play/Code/AI/knowledge-representation-2/<http:/ar.dbpedia.org/resource/55_إسعاف_(فيلم)> <http:/www.w3.org/1999/02/22-rdf-syntax-ns does not look like a valid URI, trying to serialize this will break.\n"
     ]
    },
    {
     "name": "stderr",
     "output_type": "stream",
     "text": [
      "WARNING:rdflib.term:file:///Users/Play/Code/AI/knowledge-representation-2/<http:/ar.dbpedia.org/resource/678_(فيلم)> <http:/www.w3.org/1999/02/22-rdf-syntax-ns#type> <http://dbpedia.org/ontology/Film> .\n does not look like a valid URI, trying to serialize this will break.\n"
     ]
    },
    {
     "name": "stderr",
     "output_type": "stream",
     "text": [
      "WARNING:rdflib.term:file:///Users/Play/Code/AI/knowledge-representation-2/<http:/ar.dbpedia.org/resource/678_(فيلم)> <http:/www.w3.org/1999/02/22-rdf-syntax-ns does not look like a valid URI, trying to serialize this will break.\n"
     ]
    },
    {
     "name": "stderr",
     "output_type": "stream",
     "text": [
      "WARNING:rdflib.term:file:///Users/Play/Code/AI/knowledge-representation-2/<http:/ar.dbpedia.org/resource/7_أرطال_(فيلم)> <http:/www.w3.org/1999/02/22-rdf-syntax-ns#type> <http://dbpedia.org/ontology/Film> .\n does not look like a valid URI, trying to serialize this will break.\n"
     ]
    },
    {
     "name": "stderr",
     "output_type": "stream",
     "text": [
      "WARNING:rdflib.term:file:///Users/Play/Code/AI/knowledge-representation-2/<http:/ar.dbpedia.org/resource/7_أرطال_(فيلم)> <http:/www.w3.org/1999/02/22-rdf-syntax-ns does not look like a valid URI, trying to serialize this will break.\n"
     ]
    },
    {
     "name": "stderr",
     "output_type": "stream",
     "text": [
      "WARNING:rdflib.term:file:///Users/Play/Code/AI/knowledge-representation-2/<http:/ar.dbpedia.org/resource/7_أيام_في_الجنة_(فيلم)> <http:/www.w3.org/1999/02/22-rdf-syntax-ns#type> <http://dbpedia.org/ontology/Film> .\n does not look like a valid URI, trying to serialize this will break.\n"
     ]
    },
    {
     "name": "stderr",
     "output_type": "stream",
     "text": [
      "WARNING:rdflib.term:file:///Users/Play/Code/AI/knowledge-representation-2/<http:/ar.dbpedia.org/resource/7_أيام_في_الجنة_(فيلم)> <http:/www.w3.org/1999/02/22-rdf-syntax-ns does not look like a valid URI, trying to serialize this will break.\n"
     ]
    },
    {
     "name": "stderr",
     "output_type": "stream",
     "text": [
      "WARNING:rdflib.term:file:///Users/Play/Code/AI/knowledge-representation-2/<http:/ar.dbpedia.org/resource/7_شارع_الحبيب_بورقيبة_(فيلم)> <http:/www.w3.org/1999/02/22-rdf-syntax-ns#type> <http://dbpedia.org/ontology/Film> .\n does not look like a valid URI, trying to serialize this will break.\n"
     ]
    },
    {
     "name": "stderr",
     "output_type": "stream",
     "text": [
      "WARNING:rdflib.term:file:///Users/Play/Code/AI/knowledge-representation-2/<http:/ar.dbpedia.org/resource/7_شارع_الحبيب_بورقيبة_(فيلم)> <http:/www.w3.org/1999/02/22-rdf-syntax-ns does not look like a valid URI, trying to serialize this will break.\n"
     ]
    },
    {
     "name": "stderr",
     "output_type": "stream",
     "text": [
      "WARNING:rdflib.term:file:///Users/Play/Code/AI/knowledge-representation-2/<http:/ar.dbpedia.org/resource/88_دقيقة> <http:/www.w3.org/1999/02/22-rdf-syntax-ns#type> <http://dbpedia.org/ontology/Film> .\n does not look like a valid URI, trying to serialize this will break.\n"
     ]
    },
    {
     "name": "stderr",
     "output_type": "stream",
     "text": [
      "WARNING:rdflib.term:file:///Users/Play/Code/AI/knowledge-representation-2/<http:/ar.dbpedia.org/resource/88_دقيقة> <http:/www.w3.org/1999/02/22-rdf-syntax-ns does not look like a valid URI, trying to serialize this will break.\n"
     ]
    },
    {
     "name": "stderr",
     "output_type": "stream",
     "text": [
      "WARNING:rdflib.term:file:///Users/Play/Code/AI/knowledge-representation-2/<http:/ar.dbpedia.org/resource/8مم_(فيلم)> <http:/www.w3.org/1999/02/22-rdf-syntax-ns#type> <http://dbpedia.org/ontology/Film> .\n does not look like a valid URI, trying to serialize this will break.\n"
     ]
    },
    {
     "name": "stderr",
     "output_type": "stream",
     "text": [
      "WARNING:rdflib.term:file:///Users/Play/Code/AI/knowledge-representation-2/<http:/ar.dbpedia.org/resource/8مم_(فيلم)> <http:/www.w3.org/1999/02/22-rdf-syntax-ns does not look like a valid URI, trying to serialize this will break.\n"
     ]
    },
    {
     "name": "stderr",
     "output_type": "stream",
     "text": [
      "WARNING:rdflib.term:file:///Users/Play/Code/AI/knowledge-representation-2/<http:/ar.dbpedia.org/resource/90_دقيقة_(فيلم)> <http:/www.w3.org/1999/02/22-rdf-syntax-ns#type> <http://dbpedia.org/ontology/Film> .\n does not look like a valid URI, trying to serialize this will break.\n"
     ]
    },
    {
     "name": "stderr",
     "output_type": "stream",
     "text": [
      "WARNING:rdflib.term:file:///Users/Play/Code/AI/knowledge-representation-2/<http:/ar.dbpedia.org/resource/90_دقيقة_(فيلم)> <http:/www.w3.org/1999/02/22-rdf-syntax-ns does not look like a valid URI, trying to serialize this will break.\n"
     ]
    },
    {
     "name": "stderr",
     "output_type": "stream",
     "text": [
      "WARNING:rdflib.term:file:///Users/Play/Code/AI/knowledge-representation-2/<http:/ar.dbpedia.org/resource/A_Prairie_Home_Companion_(film)> <http:/www.w3.org/1999/02/22-rdf-syntax-ns#type> <http://dbpedia.org/ontology/Film> .\n does not look like a valid URI, trying to serialize this will break.\n"
     ]
    },
    {
     "name": "stderr",
     "output_type": "stream",
     "text": [
      "WARNING:rdflib.term:file:///Users/Play/Code/AI/knowledge-representation-2/<http:/ar.dbpedia.org/resource/A_Prairie_Home_Companion_(film)> <http:/www.w3.org/1999/02/22-rdf-syntax-ns does not look like a valid URI, trying to serialize this will break.\n"
     ]
    },
    {
     "name": "stderr",
     "output_type": "stream",
     "text": [
      "WARNING:rdflib.term:file:///Users/Play/Code/AI/knowledge-representation-2/<http:/ar.dbpedia.org/resource/Mujhse_Fraaandship_Karoge> <http:/www.w3.org/1999/02/22-rdf-syntax-ns#type> <http://dbpedia.org/ontology/Film> .\n does not look like a valid URI, trying to serialize this will break.\n"
     ]
    },
    {
     "name": "stderr",
     "output_type": "stream",
     "text": [
      "WARNING:rdflib.term:file:///Users/Play/Code/AI/knowledge-representation-2/<http:/ar.dbpedia.org/resource/Mujhse_Fraaandship_Karoge> <http:/www.w3.org/1999/02/22-rdf-syntax-ns does not look like a valid URI, trying to serialize this will break.\n"
     ]
    },
    {
     "name": "stderr",
     "output_type": "stream",
     "text": [
      "WARNING:rdflib.term:file:///Users/Play/Code/AI/knowledge-representation-2/<http:/ar.dbpedia.org/resource/Stauffenberg_(فيلم)> <http:/www.w3.org/1999/02/22-rdf-syntax-ns#type> <http://dbpedia.org/ontology/Film> .\n does not look like a valid URI, trying to serialize this will break.\n"
     ]
    },
    {
     "name": "stderr",
     "output_type": "stream",
     "text": [
      "WARNING:rdflib.term:file:///Users/Play/Code/AI/knowledge-representation-2/<http:/ar.dbpedia.org/resource/Stauffenberg_(فيلم)> <http:/www.w3.org/1999/02/22-rdf-syntax-ns does not look like a valid URI, trying to serialize this will break.\n"
     ]
    },
    {
     "name": "stderr",
     "output_type": "stream",
     "text": [
      "WARNING:rdflib.term:file:///Users/Play/Code/AI/knowledge-representation-2/<http:/ar.dbpedia.org/resource/آجا_ناشلي> <http:/www.w3.org/1999/02/22-rdf-syntax-ns#type> <http://dbpedia.org/ontology/Film> .\n does not look like a valid URI, trying to serialize this will break.\n"
     ]
    },
    {
     "name": "stderr",
     "output_type": "stream",
     "text": [
      "WARNING:rdflib.term:file:///Users/Play/Code/AI/knowledge-representation-2/<http:/ar.dbpedia.org/resource/آجا_ناشلي> <http:/www.w3.org/1999/02/22-rdf-syntax-ns does not look like a valid URI, trying to serialize this will break.\n"
     ]
    },
    {
     "name": "stderr",
     "output_type": "stream",
     "text": [
      "WARNING:rdflib.term:file:///Users/Play/Code/AI/knowledge-representation-2/<http:/ar.dbpedia.org/resource/آخر_أيام_الأرض_(فيلم)> <http:/www.w3.org/1999/02/22-rdf-syntax-ns#type> <http://dbpedia.org/ontology/Film> .\n does not look like a valid URI, trying to serialize this will break.\n"
     ]
    },
    {
     "name": "stderr",
     "output_type": "stream",
     "text": [
      "WARNING:rdflib.term:file:///Users/Play/Code/AI/knowledge-representation-2/<http:/ar.dbpedia.org/resource/آخر_أيام_الأرض_(فيلم)> <http:/www.w3.org/1999/02/22-rdf-syntax-ns does not look like a valid URI, trying to serialize this will break.\n"
     ]
    },
    {
     "name": "stderr",
     "output_type": "stream",
     "text": [
      "WARNING:rdflib.term:file:///Users/Play/Code/AI/knowledge-representation-2/<http:/ar.dbpedia.org/resource/آخر_حروب_صدام_(وثائقي)> <http:/www.w3.org/1999/02/22-rdf-syntax-ns#type> <http://dbpedia.org/ontology/Film> .\n does not look like a valid URI, trying to serialize this will break.\n"
     ]
    },
    {
     "name": "stderr",
     "output_type": "stream",
     "text": [
      "WARNING:rdflib.term:file:///Users/Play/Code/AI/knowledge-representation-2/<http:/ar.dbpedia.org/resource/آخر_حروب_صدام_(وثائقي)> <http:/www.w3.org/1999/02/22-rdf-syntax-ns does not look like a valid URI, trying to serialize this will break.\n"
     ]
    },
    {
     "name": "stderr",
     "output_type": "stream",
     "text": [
      "WARNING:rdflib.term:file:///Users/Play/Code/AI/knowledge-representation-2/<http:/ar.dbpedia.org/resource/آخر_ديسمبر_(فيلم)> <http:/www.w3.org/1999/02/22-rdf-syntax-ns#type> <http://dbpedia.org/ontology/Film> .\n does not look like a valid URI, trying to serialize this will break.\n"
     ]
    },
    {
     "name": "stderr",
     "output_type": "stream",
     "text": [
      "WARNING:rdflib.term:file:///Users/Play/Code/AI/knowledge-representation-2/<http:/ar.dbpedia.org/resource/آخر_ديسمبر_(فيلم)> <http:/www.w3.org/1999/02/22-rdf-syntax-ns does not look like a valid URI, trying to serialize this will break.\n"
     ]
    },
    {
     "name": "stderr",
     "output_type": "stream",
     "text": [
      "WARNING:rdflib.term:file:///Users/Play/Code/AI/knowledge-representation-2/<http:/ar.dbpedia.org/resource/آخر_رجل_على_الأرض> <http:/www.w3.org/1999/02/22-rdf-syntax-ns#type> <http://dbpedia.org/ontology/Film> .\n does not look like a valid URI, trying to serialize this will break.\n"
     ]
    },
    {
     "name": "stderr",
     "output_type": "stream",
     "text": [
      "WARNING:rdflib.term:file:///Users/Play/Code/AI/knowledge-representation-2/<http:/ar.dbpedia.org/resource/آخر_رجل_على_الأرض> <http:/www.w3.org/1999/02/22-rdf-syntax-ns does not look like a valid URI, trying to serialize this will break.\n"
     ]
    },
    {
     "name": "stderr",
     "output_type": "stream",
     "text": [
      "WARNING:rdflib.term:file:///Users/Play/Code/AI/knowledge-representation-2/<http:/ar.dbpedia.org/resource/آخر_ساموراي_(فيلم)> <http:/www.w3.org/1999/02/22-rdf-syntax-ns#type> <http://dbpedia.org/ontology/Film> .\n does not look like a valid URI, trying to serialize this will break.\n"
     ]
    },
    {
     "name": "stderr",
     "output_type": "stream",
     "text": [
      "WARNING:rdflib.term:file:///Users/Play/Code/AI/knowledge-representation-2/<http:/ar.dbpedia.org/resource/آخر_ساموراي_(فيلم)> <http:/www.w3.org/1999/02/22-rdf-syntax-ns does not look like a valid URI, trying to serialize this will break.\n"
     ]
    },
    {
     "name": "stderr",
     "output_type": "stream",
     "text": [
      "WARNING:rdflib.term:file:///Users/Play/Code/AI/knowledge-representation-2/<http:/ar.dbpedia.org/resource/آخر_فيلم_(فيلم)> <http:/www.w3.org/1999/02/22-rdf-syntax-ns#type> <http://dbpedia.org/ontology/Film> .\n does not look like a valid URI, trying to serialize this will break.\n"
     ]
    },
    {
     "name": "stderr",
     "output_type": "stream",
     "text": [
      "WARNING:rdflib.term:file:///Users/Play/Code/AI/knowledge-representation-2/<http:/ar.dbpedia.org/resource/آخر_فيلم_(فيلم)> <http:/www.w3.org/1999/02/22-rdf-syntax-ns does not look like a valid URI, trying to serialize this will break.\n"
     ]
    },
    {
     "name": "stderr",
     "output_type": "stream",
     "text": [
      "WARNING:rdflib.term:file:///Users/Play/Code/AI/knowledge-representation-2/<http:/ar.dbpedia.org/resource/آخر_ملوك_إسكتلندا_(فيلم)> <http:/www.w3.org/1999/02/22-rdf-syntax-ns#type> <http://dbpedia.org/ontology/Film> .\n does not look like a valid URI, trying to serialize this will break.\n"
     ]
    },
    {
     "name": "stderr",
     "output_type": "stream",
     "text": [
      "WARNING:rdflib.term:file:///Users/Play/Code/AI/knowledge-representation-2/<http:/ar.dbpedia.org/resource/آخر_ملوك_إسكتلندا_(فيلم)> <http:/www.w3.org/1999/02/22-rdf-syntax-ns does not look like a valid URI, trying to serialize this will break.\n"
     ]
    },
    {
     "name": "stderr",
     "output_type": "stream",
     "text": [
      "WARNING:rdflib.term:file:///Users/Play/Code/AI/knowledge-representation-2/<http:/ar.dbpedia.org/resource/آرجَو> <http:/www.w3.org/1999/02/22-rdf-syntax-ns#type> <http://dbpedia.org/ontology/Film> .\n does not look like a valid URI, trying to serialize this will break.\n"
     ]
    },
    {
     "name": "stderr",
     "output_type": "stream",
     "text": [
      "WARNING:rdflib.term:file:///Users/Play/Code/AI/knowledge-representation-2/<http:/ar.dbpedia.org/resource/آرجَو> <http:/www.w3.org/1999/02/22-rdf-syntax-ns does not look like a valid URI, trying to serialize this will break.\n"
     ]
    },
    {
     "name": "stderr",
     "output_type": "stream",
     "text": [
      "WARNING:rdflib.term:file:///Users/Play/Code/AI/knowledge-representation-2/<http:/ar.dbpedia.org/resource/آريتي_المقترضة_(فيلم)> <http:/www.w3.org/1999/02/22-rdf-syntax-ns#type> <http://dbpedia.org/ontology/Film> .\n does not look like a valid URI, trying to serialize this will break.\n"
     ]
    },
    {
     "name": "stderr",
     "output_type": "stream",
     "text": [
      "WARNING:rdflib.term:file:///Users/Play/Code/AI/knowledge-representation-2/<http:/ar.dbpedia.org/resource/آريتي_المقترضة_(فيلم)> <http:/www.w3.org/1999/02/22-rdf-syntax-ns does not look like a valid URI, trying to serialize this will break.\n"
     ]
    },
    {
     "name": "stderr",
     "output_type": "stream",
     "text": [
      "WARNING:rdflib.term:file:///Users/Play/Code/AI/knowledge-representation-2/<http:/ar.dbpedia.org/resource/آسف_على_الإزعاج_(فيلم)> <http:/www.w3.org/1999/02/22-rdf-syntax-ns#type> <http://dbpedia.org/ontology/Film> .\n does not look like a valid URI, trying to serialize this will break.\n"
     ]
    },
    {
     "name": "stderr",
     "output_type": "stream",
     "text": [
      "WARNING:rdflib.term:file:///Users/Play/Code/AI/knowledge-representation-2/<http:/ar.dbpedia.org/resource/آسف_على_الإزعاج_(فيلم)> <http:/www.w3.org/1999/02/22-rdf-syntax-ns does not look like a valid URI, trying to serialize this will break.\n"
     ]
    },
    {
     "name": "stderr",
     "output_type": "stream",
     "text": [
      "WARNING:rdflib.term:file:///Users/Play/Code/AI/knowledge-representation-2/<http:/ar.dbpedia.org/resource/آغورا_(فيلم)> <http:/www.w3.org/1999/02/22-rdf-syntax-ns#type> <http://dbpedia.org/ontology/Film> .\n does not look like a valid URI, trying to serialize this will break.\n"
     ]
    },
    {
     "name": "stderr",
     "output_type": "stream",
     "text": [
      "WARNING:rdflib.term:file:///Users/Play/Code/AI/knowledge-representation-2/<http:/ar.dbpedia.org/resource/آغورا_(فيلم)> <http:/www.w3.org/1999/02/22-rdf-syntax-ns does not look like a valid URI, trying to serialize this will break.\n"
     ]
    },
    {
     "name": "stderr",
     "output_type": "stream",
     "text": [
      "WARNING:rdflib.term:file:///Users/Play/Code/AI/knowledge-representation-2/<http:/ar.dbpedia.org/resource/آلام_المسيح_(فيلم)> <http:/www.w3.org/1999/02/22-rdf-syntax-ns#type> <http://dbpedia.org/ontology/Film> .\n does not look like a valid URI, trying to serialize this will break.\n"
     ]
    },
    {
     "name": "stderr",
     "output_type": "stream",
     "text": [
      "WARNING:rdflib.term:file:///Users/Play/Code/AI/knowledge-representation-2/<http:/ar.dbpedia.org/resource/آلام_المسيح_(فيلم)> <http:/www.w3.org/1999/02/22-rdf-syntax-ns does not look like a valid URI, trying to serialize this will break.\n"
     ]
    },
    {
     "name": "stderr",
     "output_type": "stream",
     "text": [
      "WARNING:rdflib.term:file:///Users/Play/Code/AI/knowledge-representation-2/<http:/ar.dbpedia.org/resource/آلة_تشاركي_(فيلم)> <http:/www.w3.org/1999/02/22-rdf-syntax-ns#type> <http://dbpedia.org/ontology/Film> .\n does not look like a valid URI, trying to serialize this will break.\n"
     ]
    },
    {
     "name": "stderr",
     "output_type": "stream",
     "text": [
      "WARNING:rdflib.term:file:///Users/Play/Code/AI/knowledge-representation-2/<http:/ar.dbpedia.org/resource/آلة_تشاركي_(فيلم)> <http:/www.w3.org/1999/02/22-rdf-syntax-ns does not look like a valid URI, trying to serialize this will break.\n"
     ]
    },
    {
     "name": "stderr",
     "output_type": "stream",
     "text": [
      "WARNING:rdflib.term:file:///Users/Play/Code/AI/knowledge-representation-2/<http:/ar.dbpedia.org/resource/آميريكان_باي_(فيلم)> <http:/www.w3.org/1999/02/22-rdf-syntax-ns#type> <http://dbpedia.org/ontology/Film> .\n does not look like a valid URI, trying to serialize this will break.\n"
     ]
    },
    {
     "name": "stderr",
     "output_type": "stream",
     "text": [
      "WARNING:rdflib.term:file:///Users/Play/Code/AI/knowledge-representation-2/<http:/ar.dbpedia.org/resource/آميريكان_باي_(فيلم)> <http:/www.w3.org/1999/02/22-rdf-syntax-ns does not look like a valid URI, trying to serialize this will break.\n"
     ]
    },
    {
     "name": "stderr",
     "output_type": "stream",
     "text": [
      "WARNING:rdflib.term:file:///Users/Play/Code/AI/knowledge-representation-2/<http:/ar.dbpedia.org/resource/آنا_كارنينا_(فيلم)> <http:/www.w3.org/1999/02/22-rdf-syntax-ns#type> <http://dbpedia.org/ontology/Film> .\n does not look like a valid URI, trying to serialize this will break.\n"
     ]
    },
    {
     "name": "stderr",
     "output_type": "stream",
     "text": [
      "WARNING:rdflib.term:file:///Users/Play/Code/AI/knowledge-representation-2/<http:/ar.dbpedia.org/resource/آنا_كارنينا_(فيلم)> <http:/www.w3.org/1999/02/22-rdf-syntax-ns does not look like a valid URI, trying to serialize this will break.\n"
     ]
    },
    {
     "name": "stderr",
     "output_type": "stream",
     "text": [
      "WARNING:rdflib.term:file:///Users/Play/Code/AI/knowledge-representation-2/<http:/ar.dbpedia.org/resource/آنستازيا_(فيلم_1997)> <http:/www.w3.org/1999/02/22-rdf-syntax-ns#type> <http://dbpedia.org/ontology/Film> .\n does not look like a valid URI, trying to serialize this will break.\n"
     ]
    },
    {
     "name": "stderr",
     "output_type": "stream",
     "text": [
      "WARNING:rdflib.term:file:///Users/Play/Code/AI/knowledge-representation-2/<http:/ar.dbpedia.org/resource/آنستازيا_(فيلم_1997)> <http:/www.w3.org/1999/02/22-rdf-syntax-ns does not look like a valid URI, trying to serialize this will break.\n"
     ]
    },
    {
     "name": "stderr",
     "output_type": "stream",
     "text": [
      "WARNING:rdflib.term:file:///Users/Play/Code/AI/knowledge-representation-2/<http:/ar.dbpedia.org/resource/آني_هال> <http:/www.w3.org/1999/02/22-rdf-syntax-ns#type> <http://dbpedia.org/ontology/Film> .\n does not look like a valid URI, trying to serialize this will break.\n"
     ]
    },
    {
     "name": "stderr",
     "output_type": "stream",
     "text": [
      "WARNING:rdflib.term:file:///Users/Play/Code/AI/knowledge-representation-2/<http:/ar.dbpedia.org/resource/آني_هال> <http:/www.w3.org/1999/02/22-rdf-syntax-ns does not look like a valid URI, trying to serialize this will break.\n"
     ]
    },
    {
     "name": "stderr",
     "output_type": "stream",
     "text": [
      "WARNING:rdflib.term:file:///Users/Play/Code/AI/knowledge-representation-2/<http:/ar.dbpedia.org/resource/آه_من_حواء_(فيلم)> <http:/www.w3.org/1999/02/22-rdf-syntax-ns#type> <http://dbpedia.org/ontology/Film> .\n does not look like a valid URI, trying to serialize this will break.\n"
     ]
    },
    {
     "name": "stderr",
     "output_type": "stream",
     "text": [
      "WARNING:rdflib.term:file:///Users/Play/Code/AI/knowledge-representation-2/<http:/ar.dbpedia.org/resource/آه_من_حواء_(فيلم)> <http:/www.w3.org/1999/02/22-rdf-syntax-ns does not look like a valid URI, trying to serialize this will break.\n"
     ]
    },
    {
     "name": "stderr",
     "output_type": "stream",
     "text": [
      "WARNING:rdflib.term:file:///Users/Play/Code/AI/knowledge-representation-2/<http:/ar.dbpedia.org/resource/آيرون_مان_(فيلم)> <http:/www.w3.org/1999/02/22-rdf-syntax-ns#type> <http://dbpedia.org/ontology/Film> .\n does not look like a valid URI, trying to serialize this will break.\n"
     ]
    },
    {
     "name": "stderr",
     "output_type": "stream",
     "text": [
      "WARNING:rdflib.term:file:///Users/Play/Code/AI/knowledge-representation-2/<http:/ar.dbpedia.org/resource/آيرون_مان_(فيلم)> <http:/www.w3.org/1999/02/22-rdf-syntax-ns does not look like a valid URI, trying to serialize this will break.\n"
     ]
    },
    {
     "name": "stderr",
     "output_type": "stream",
     "text": [
      "WARNING:rdflib.term:file:///Users/Play/Code/AI/knowledge-representation-2/<http:/ar.dbpedia.org/resource/آيرون_مان_2> <http:/www.w3.org/1999/02/22-rdf-syntax-ns#type> <http://dbpedia.org/ontology/Film> .\n does not look like a valid URI, trying to serialize this will break.\n"
     ]
    },
    {
     "name": "stderr",
     "output_type": "stream",
     "text": [
      "WARNING:rdflib.term:file:///Users/Play/Code/AI/knowledge-representation-2/<http:/ar.dbpedia.org/resource/آيرون_مان_2> <http:/www.w3.org/1999/02/22-rdf-syntax-ns does not look like a valid URI, trying to serialize this will break.\n"
     ]
    },
    {
     "name": "stderr",
     "output_type": "stream",
     "text": [
      "WARNING:rdflib.term:file:///Users/Play/Code/AI/knowledge-representation-2/<http:/ar.dbpedia.org/resource/آيرون_مان_3_(فيلم)> <http:/www.w3.org/1999/02/22-rdf-syntax-ns#type> <http://dbpedia.org/ontology/Film> .\n does not look like a valid URI, trying to serialize this will break.\n"
     ]
    },
    {
     "name": "stderr",
     "output_type": "stream",
     "text": [
      "WARNING:rdflib.term:file:///Users/Play/Code/AI/knowledge-representation-2/<http:/ar.dbpedia.org/resource/آيرون_مان_3_(فيلم)> <http:/www.w3.org/1999/02/22-rdf-syntax-ns does not look like a valid URI, trying to serialize this will break.\n"
     ]
    },
    {
     "name": "stderr",
     "output_type": "stream",
     "text": [
      "WARNING:rdflib.term:file:///Users/Play/Code/AI/knowledge-representation-2/<http:/ar.dbpedia.org/resource/آيس_إيج_(فيلم)> <http:/www.w3.org/1999/02/22-rdf-syntax-ns#type> <http://dbpedia.org/ontology/Film> .\n does not look like a valid URI, trying to serialize this will break.\n"
     ]
    },
    {
     "name": "stderr",
     "output_type": "stream",
     "text": [
      "WARNING:rdflib.term:file:///Users/Play/Code/AI/knowledge-representation-2/<http:/ar.dbpedia.org/resource/آيس_إيج_(فيلم)> <http:/www.w3.org/1999/02/22-rdf-syntax-ns does not look like a valid URI, trying to serialize this will break.\n"
     ]
    },
    {
     "name": "stderr",
     "output_type": "stream",
     "text": [
      "WARNING:rdflib.term:file:///Users/Play/Code/AI/knowledge-representation-2/<http:/ar.dbpedia.org/resource/آيس_كريم_في_جليم_(فيلم)> <http:/www.w3.org/1999/02/22-rdf-syntax-ns#type> <http://dbpedia.org/ontology/Film> .\n does not look like a valid URI, trying to serialize this will break.\n"
     ]
    },
    {
     "name": "stderr",
     "output_type": "stream",
     "text": [
      "WARNING:rdflib.term:file:///Users/Play/Code/AI/knowledge-representation-2/<http:/ar.dbpedia.org/resource/آيس_كريم_في_جليم_(فيلم)> <http:/www.w3.org/1999/02/22-rdf-syntax-ns does not look like a valid URI, trying to serialize this will break.\n"
     ]
    },
    {
     "name": "stderr",
     "output_type": "stream",
     "text": [
      "WARNING:rdflib.term:file:///Users/Play/Code/AI/knowledge-representation-2/<http:/ar.dbpedia.org/resource/آيسيس:_أيرون_إيجل_3> <http:/www.w3.org/1999/02/22-rdf-syntax-ns#type> <http://dbpedia.org/ontology/Film> .\n does not look like a valid URI, trying to serialize this will break.\n"
     ]
    },
    {
     "name": "stderr",
     "output_type": "stream",
     "text": [
      "WARNING:rdflib.term:file:///Users/Play/Code/AI/knowledge-representation-2/<http:/ar.dbpedia.org/resource/آيسيس:_أيرون_إيجل_3> <http:/www.w3.org/1999/02/22-rdf-syntax-ns does not look like a valid URI, trying to serialize this will break.\n"
     ]
    },
    {
     "name": "stderr",
     "output_type": "stream",
     "text": [
      "WARNING:rdflib.term:file:///Users/Play/Code/AI/knowledge-representation-2/<http:/ar.dbpedia.org/resource/أ_برايري_هوم_كومبانيون_(فيلم)> <http:/www.w3.org/1999/02/22-rdf-syntax-ns#type> <http://dbpedia.org/ontology/Film> .\n does not look like a valid URI, trying to serialize this will break.\n"
     ]
    },
    {
     "name": "stderr",
     "output_type": "stream",
     "text": [
      "WARNING:rdflib.term:file:///Users/Play/Code/AI/knowledge-representation-2/<http:/ar.dbpedia.org/resource/أ_برايري_هوم_كومبانيون_(فيلم)> <http:/www.w3.org/1999/02/22-rdf-syntax-ns does not look like a valid URI, trying to serialize this will break.\n"
     ]
    },
    {
     "name": "stderr",
     "output_type": "stream",
     "text": [
      "WARNING:rdflib.term:file:///Users/Play/Code/AI/knowledge-representation-2/<http:/ar.dbpedia.org/resource/أبطال_كيلي_(فيلم)> <http:/www.w3.org/1999/02/22-rdf-syntax-ns#type> <http://dbpedia.org/ontology/Film> .\n does not look like a valid URI, trying to serialize this will break.\n"
     ]
    },
    {
     "name": "stderr",
     "output_type": "stream",
     "text": [
      "WARNING:rdflib.term:file:///Users/Play/Code/AI/knowledge-representation-2/<http:/ar.dbpedia.org/resource/أبطال_كيلي_(فيلم)> <http:/www.w3.org/1999/02/22-rdf-syntax-ns does not look like a valid URI, trying to serialize this will break.\n"
     ]
    },
    {
     "name": "stderr",
     "output_type": "stream",
     "text": [
      "WARNING:rdflib.term:file:///Users/Play/Code/AI/knowledge-representation-2/<http:/ar.dbpedia.org/resource/أبناء_الصمت_(فيلم)> <http:/www.w3.org/1999/02/22-rdf-syntax-ns#type> <http://dbpedia.org/ontology/Film> .\n does not look like a valid URI, trying to serialize this will break.\n"
     ]
    },
    {
     "name": "stderr",
     "output_type": "stream",
     "text": [
      "WARNING:rdflib.term:file:///Users/Play/Code/AI/knowledge-representation-2/<http:/ar.dbpedia.org/resource/أبناء_الصمت_(فيلم)> <http:/www.w3.org/1999/02/22-rdf-syntax-ns does not look like a valid URI, trying to serialize this will break.\n"
     ]
    },
    {
     "name": "stderr",
     "output_type": "stream",
     "text": [
      "WARNING:rdflib.term:file:///Users/Play/Code/AI/knowledge-representation-2/<http:/ar.dbpedia.org/resource/أبناء_وقتلة_(فيلم)> <http:/www.w3.org/1999/02/22-rdf-syntax-ns#type> <http://dbpedia.org/ontology/Film> .\n does not look like a valid URI, trying to serialize this will break.\n"
     ]
    },
    {
     "name": "stderr",
     "output_type": "stream",
     "text": [
      "WARNING:rdflib.term:file:///Users/Play/Code/AI/knowledge-representation-2/<http:/ar.dbpedia.org/resource/أبناء_وقتلة_(فيلم)> <http:/www.w3.org/1999/02/22-rdf-syntax-ns does not look like a valid URI, trying to serialize this will break.\n"
     ]
    },
    {
     "name": "stderr",
     "output_type": "stream",
     "text": [
      "WARNING:rdflib.term:file:///Users/Play/Code/AI/knowledge-representation-2/<http:/ar.dbpedia.org/resource/أبواب_الجنة_(فيلم)> <http:/www.w3.org/1999/02/22-rdf-syntax-ns#type> <http://dbpedia.org/ontology/Film> .\n does not look like a valid URI, trying to serialize this will break.\n"
     ]
    },
    {
     "name": "stderr",
     "output_type": "stream",
     "text": [
      "WARNING:rdflib.term:file:///Users/Play/Code/AI/knowledge-representation-2/<http:/ar.dbpedia.org/resource/أبواب_الجنة_(فيلم)> <http:/www.w3.org/1999/02/22-rdf-syntax-ns does not look like a valid URI, trying to serialize this will break.\n"
     ]
    },
    {
     "name": "stderr",
     "output_type": "stream",
     "text": [
      "WARNING:rdflib.term:file:///Users/Play/Code/AI/knowledge-representation-2/<http:/ar.dbpedia.org/resource/أبوكاليبتو> <http:/www.w3.org/1999/02/22-rdf-syntax-ns#type> <http://dbpedia.org/ontology/Film> .\n does not look like a valid URI, trying to serialize this will break.\n"
     ]
    },
    {
     "name": "stderr",
     "output_type": "stream",
     "text": [
      "WARNING:rdflib.term:file:///Users/Play/Code/AI/knowledge-representation-2/<http:/ar.dbpedia.org/resource/أبوكاليبتو> <http:/www.w3.org/1999/02/22-rdf-syntax-ns does not look like a valid URI, trying to serialize this will break.\n"
     ]
    },
    {
     "name": "stderr",
     "output_type": "stream",
     "text": [
      "WARNING:rdflib.term:file:///Users/Play/Code/AI/knowledge-representation-2/<http:/ar.dbpedia.org/resource/أبي_فوق_الشجرة_(فيلم)> <http:/www.w3.org/1999/02/22-rdf-syntax-ns#type> <http://dbpedia.org/ontology/Film> .\n does not look like a valid URI, trying to serialize this will break.\n"
     ]
    },
    {
     "name": "stderr",
     "output_type": "stream",
     "text": [
      "WARNING:rdflib.term:file:///Users/Play/Code/AI/knowledge-representation-2/<http:/ar.dbpedia.org/resource/أبي_فوق_الشجرة_(فيلم)> <http:/www.w3.org/1999/02/22-rdf-syntax-ns does not look like a valid URI, trying to serialize this will break.\n"
     ]
    },
    {
     "name": "stderr",
     "output_type": "stream",
     "text": [
      "WARNING:rdflib.term:file:///Users/Play/Code/AI/knowledge-representation-2/<http:/ar.dbpedia.org/resource/أثر_الثمالة_الجزء_الثالث_(فيلم)> <http:/www.w3.org/1999/02/22-rdf-syntax-ns#type> <http://dbpedia.org/ontology/Film> .\n does not look like a valid URI, trying to serialize this will break.\n"
     ]
    },
    {
     "name": "stderr",
     "output_type": "stream",
     "text": [
      "WARNING:rdflib.term:file:///Users/Play/Code/AI/knowledge-representation-2/<http:/ar.dbpedia.org/resource/أثر_الثمالة_الجزء_الثالث_(فيلم)> <http:/www.w3.org/1999/02/22-rdf-syntax-ns does not look like a valid URI, trying to serialize this will break.\n"
     ]
    },
    {
     "name": "stderr",
     "output_type": "stream",
     "text": [
      "WARNING:rdflib.term:file:///Users/Play/Code/AI/knowledge-representation-2/<http:/ar.dbpedia.org/resource/أثقل_من_الماء_(فيلم)> <http:/www.w3.org/1999/02/22-rdf-syntax-ns#type> <http://dbpedia.org/ontology/Film> .\n does not look like a valid URI, trying to serialize this will break.\n"
     ]
    },
    {
     "name": "stderr",
     "output_type": "stream",
     "text": [
      "WARNING:rdflib.term:file:///Users/Play/Code/AI/knowledge-representation-2/<http:/ar.dbpedia.org/resource/أثقل_من_الماء_(فيلم)> <http:/www.w3.org/1999/02/22-rdf-syntax-ns does not look like a valid URI, trying to serialize this will break.\n"
     ]
    },
    {
     "name": "stderr",
     "output_type": "stream",
     "text": [
      "WARNING:rdflib.term:file:///Users/Play/Code/AI/knowledge-representation-2/<http:/ar.dbpedia.org/resource/أجمل_أيام_حياتي_(فيلم)> <http:/www.w3.org/1999/02/22-rdf-syntax-ns#type> <http://dbpedia.org/ontology/Film> .\n does not look like a valid URI, trying to serialize this will break.\n"
     ]
    },
    {
     "name": "stderr",
     "output_type": "stream",
     "text": [
      "WARNING:rdflib.term:file:///Users/Play/Code/AI/knowledge-representation-2/<http:/ar.dbpedia.org/resource/أجمل_أيام_حياتي_(فيلم)> <http:/www.w3.org/1999/02/22-rdf-syntax-ns does not look like a valid URI, trying to serialize this will break.\n"
     ]
    },
    {
     "name": "stderr",
     "output_type": "stream",
     "text": [
      "WARNING:rdflib.term:file:///Users/Play/Code/AI/knowledge-representation-2/<http:/ar.dbpedia.org/resource/أجنحة_الحمامة_(فيلم)> <http:/www.w3.org/1999/02/22-rdf-syntax-ns#type> <http://dbpedia.org/ontology/Film> .\n does not look like a valid URI, trying to serialize this will break.\n"
     ]
    },
    {
     "name": "stderr",
     "output_type": "stream",
     "text": [
      "WARNING:rdflib.term:file:///Users/Play/Code/AI/knowledge-representation-2/<http:/ar.dbpedia.org/resource/أجنحة_الحمامة_(فيلم)> <http:/www.w3.org/1999/02/22-rdf-syntax-ns does not look like a valid URI, trying to serialize this will break.\n"
     ]
    },
    {
     "name": "stderr",
     "output_type": "stream",
     "text": [
      "WARNING:rdflib.term:file:///Users/Play/Code/AI/knowledge-representation-2/<http:/ar.dbpedia.org/resource/أحاديث_عنهن_(فيلم)> <http:/www.w3.org/1999/02/22-rdf-syntax-ns#type> <http://dbpedia.org/ontology/Film> .\n does not look like a valid URI, trying to serialize this will break.\n"
     ]
    },
    {
     "name": "stderr",
     "output_type": "stream",
     "text": [
      "WARNING:rdflib.term:file:///Users/Play/Code/AI/knowledge-representation-2/<http:/ar.dbpedia.org/resource/أحاديث_عنهن_(فيلم)> <http:/www.w3.org/1999/02/22-rdf-syntax-ns does not look like a valid URI, trying to serialize this will break.\n"
     ]
    },
    {
     "name": "stderr",
     "output_type": "stream",
     "text": [
      "WARNING:rdflib.term:file:///Users/Play/Code/AI/knowledge-representation-2/<http:/ar.dbpedia.org/resource/أحاسيس_(فيلم)> <http:/www.w3.org/1999/02/22-rdf-syntax-ns#type> <http://dbpedia.org/ontology/Film> .\n does not look like a valid URI, trying to serialize this will break.\n"
     ]
    },
    {
     "name": "stderr",
     "output_type": "stream",
     "text": [
      "WARNING:rdflib.term:file:///Users/Play/Code/AI/knowledge-representation-2/<http:/ar.dbpedia.org/resource/أحاسيس_(فيلم)> <http:/www.w3.org/1999/02/22-rdf-syntax-ns does not look like a valid URI, trying to serialize this will break.\n"
     ]
    },
    {
     "name": "stderr",
     "output_type": "stream",
     "text": [
      "WARNING:rdflib.term:file:///Users/Play/Code/AI/knowledge-representation-2/<http:/ar.dbpedia.org/resource/أحبك_بيث_كوبر_(فيلم)> <http:/www.w3.org/1999/02/22-rdf-syntax-ns#type> <http://dbpedia.org/ontology/Film> .\n does not look like a valid URI, trying to serialize this will break.\n"
     ]
    },
    {
     "name": "stderr",
     "output_type": "stream",
     "text": [
      "WARNING:rdflib.term:file:///Users/Play/Code/AI/knowledge-representation-2/<http:/ar.dbpedia.org/resource/أحبك_بيث_كوبر_(فيلم)> <http:/www.w3.org/1999/02/22-rdf-syntax-ns does not look like a valid URI, trying to serialize this will break.\n"
     ]
    },
    {
     "name": "stderr",
     "output_type": "stream",
     "text": [
      "WARNING:rdflib.term:file:///Users/Play/Code/AI/knowledge-representation-2/<http:/ar.dbpedia.org/resource/أحبك_يا_رجل_(فيلم)> <http:/www.w3.org/1999/02/22-rdf-syntax-ns#type> <http://dbpedia.org/ontology/Film> .\n does not look like a valid URI, trying to serialize this will break.\n"
     ]
    },
    {
     "name": "stderr",
     "output_type": "stream",
     "text": [
      "WARNING:rdflib.term:file:///Users/Play/Code/AI/knowledge-representation-2/<http:/ar.dbpedia.org/resource/أحبك_يا_رجل_(فيلم)> <http:/www.w3.org/1999/02/22-rdf-syntax-ns does not look like a valid URI, trying to serialize this will break.\n"
     ]
    },
    {
     "name": "stderr",
     "output_type": "stream",
     "text": [
      "WARNING:rdflib.term:file:///Users/Play/Code/AI/knowledge-representation-2/<http:/ar.dbpedia.org/resource/أحداث_بدون_دلالة_(فيلم)> <http:/www.w3.org/1999/02/22-rdf-syntax-ns#type> <http://dbpedia.org/ontology/Film> .\n does not look like a valid URI, trying to serialize this will break.\n"
     ]
    },
    {
     "name": "stderr",
     "output_type": "stream",
     "text": [
      "WARNING:rdflib.term:file:///Users/Play/Code/AI/knowledge-representation-2/<http:/ar.dbpedia.org/resource/أحداث_بدون_دلالة_(فيلم)> <http:/www.w3.org/1999/02/22-rdf-syntax-ns does not look like a valid URI, trying to serialize this will break.\n"
     ]
    },
    {
     "name": "stderr",
     "output_type": "stream",
     "text": [
      "WARNING:rdflib.term:file:///Users/Play/Code/AI/knowledge-representation-2/<http:/ar.dbpedia.org/resource/أحدهم_طار_فوق_عش_الوقواق_(فيلم)> <http:/www.w3.org/1999/02/22-rdf-syntax-ns#type> <http://dbpedia.org/ontology/Film> .\n does not look like a valid URI, trying to serialize this will break.\n"
     ]
    },
    {
     "name": "stdout",
     "output_type": "stream",
     "text": [
      "[Errno 2] No such file or directory: '/Users/Play/Code/AI/knowledge-representation-2/<http:/lodlaundromat.org/.well-known/genid/b4df02b7dd06a06ab47099b76a9233ff'\n[Errno 2] No such file or directory: '/Users/Play/Code/AI/knowledge-representation-2/<http:/lodlaundromat.org/.well-known/genid/b4df02b7dd06a06ab47099b76a9233ff'\n[Errno 2] No such file or directory: '/Users/Play/Code/AI/knowledge-representation-2/<http:/lodlaundromat.org/.well-known/genid/b4df02b7dd06a06ab47099b76a9233ff'\n[Errno 2] No such file or directory: '/Users/Play/Code/AI/knowledge-representation-2/<http:/ar.dbpedia.org/resource/(500)_يوم_من_سمر_(فيلم)> <http:/www.w3.org/1999/02/22-rdf-syntax-ns'\n[Errno 2] No such file or directory: '/Users/Play/Code/AI/knowledge-representation-2/<http:/ar.dbpedia.org/resource/1000_مبروك_(فيلم)> <http:/www.w3.org/1999/02/22-rdf-syntax-ns'\n[Errno 2] No such file or directory: '/Users/Play/Code/AI/knowledge-representation-2/<http:/ar.dbpedia.org/resource/102_دالميشن_(فيلم)> <http:/www.w3.org/1999/02/22-rdf-syntax-ns'\n[Errno 2] No such file or directory: '/Users/Play/Code/AI/knowledge-representation-2/<http:/ar.dbpedia.org/resource/10_أشياء_أكرهها_بشأنك_(فيلم)> <http:/www.w3.org/1999/02/22-rdf-syntax-ns'\n[Errno 2] No such file or directory: '/Users/Play/Code/AI/knowledge-representation-2/<http:/ar.dbpedia.org/resource/127_ساعة_(فيلم)> <http:/www.w3.org/1999/02/22-rdf-syntax-ns'\n[Errno 2] No such file or directory: '/Users/Play/Code/AI/knowledge-representation-2/<http:/ar.dbpedia.org/resource/12_(فيلم)> <http:/www.w3.org/1999/02/22-rdf-syntax-ns'\n[Errno 2] No such file or directory: '/Users/Play/Code/AI/knowledge-representation-2/<http:/ar.dbpedia.org/resource/131_أشغال_(فيلم)> <http:/www.w3.org/1999/02/22-rdf-syntax-ns'\n[Errno 2] No such file or directory: '/Users/Play/Code/AI/knowledge-representation-2/<http:/ar.dbpedia.org/resource/13_أصبحت_30_(فيلم)> <http:/www.w3.org/1999/02/22-rdf-syntax-ns'\n[Errno 2] No such file or directory: '/Users/Play/Code/AI/knowledge-representation-2/<http:/ar.dbpedia.org/resource/13_كدبة_وكدبة_(فيلم)> <http:/www.w3.org/1999/02/22-rdf-syntax-ns'\n[Errno 2] No such file or directory: '/Users/Play/Code/AI/knowledge-representation-2/<http:/ar.dbpedia.org/resource/1408_(فيلم)> <http:/www.w3.org/1999/02/22-rdf-syntax-ns'\n[Errno 2] No such file or directory: '/Users/Play/Code/AI/knowledge-representation-2/<http:/ar.dbpedia.org/resource/17_مرة_أخرى_(فيلم)> <http:/www.w3.org/1999/02/22-rdf-syntax-ns'\n[Errno 2] No such file or directory: '/Users/Play/Code/AI/knowledge-representation-2/<http:/ar.dbpedia.org/resource/187_(فيلم)> <http:/www.w3.org/1999/02/22-rdf-syntax-ns'\n[Errno 2] No such file or directory: '/Users/Play/Code/AI/knowledge-representation-2/<http:/ar.dbpedia.org/resource/1984_(إعلان)> <http:/www.w3.org/1999/02/22-rdf-syntax-ns'\n[Errno 2] No such file or directory: '/Users/Play/Code/AI/knowledge-representation-2/<http:/ar.dbpedia.org/resource/2012_(فيلم)> <http:/www.w3.org/1999/02/22-rdf-syntax-ns'\n[Errno 2] No such file or directory: '/Users/Play/Code/AI/knowledge-representation-2/<http:/ar.dbpedia.org/resource/21_(فيلم)> <http:/www.w3.org/1999/02/22-rdf-syntax-ns'\n[Errno 2] No such file or directory: '/Users/Play/Code/AI/knowledge-representation-2/<http:/ar.dbpedia.org/resource/21_شارع_جامب_(فيلم)> <http:/www.w3.org/1999/02/22-rdf-syntax-ns'\n[Errno 2] No such file or directory: '/Users/Play/Code/AI/knowledge-representation-2/<http:/ar.dbpedia.org/resource/21_غرام> <http:/www.w3.org/1999/02/22-rdf-syntax-ns'\n[Errno 2] No such file or directory: '/Users/Play/Code/AI/knowledge-representation-2/<http:/ar.dbpedia.org/resource/27_فستانا_(فيلم)> <http:/www.w3.org/1999/02/22-rdf-syntax-ns'\n[Errno 2] No such file or directory: '/Users/Play/Code/AI/knowledge-representation-2/<http:/ar.dbpedia.org/resource/28_يوما_(فيلم)> <http:/www.w3.org/1999/02/22-rdf-syntax-ns'\n[Errno 2] No such file or directory: '/Users/Play/Code/AI/knowledge-representation-2/<http:/ar.dbpedia.org/resource/300_(فيلم)> <http:/www.w3.org/1999/02/22-rdf-syntax-ns'\n[Errno 2] No such file or directory: '/Users/Play/Code/AI/knowledge-representation-2/<http:/ar.dbpedia.org/resource/30_فبراير_(فيلم)> <http:/www.w3.org/1999/02/22-rdf-syntax-ns'\n[Errno 2] No such file or directory: '/Users/Play/Code/AI/knowledge-representation-2/<http:/ar.dbpedia.org/resource/30_يوم_في_السجن_(فيلم)> <http:/www.w3.org/1999/02/22-rdf-syntax-ns'\n[Errno 2] No such file or directory: '/Users/Play/Code/AI/knowledge-representation-2/<http:/ar.dbpedia.org/resource/365_يوم_سعادة> <http:/www.w3.org/1999/02/22-rdf-syntax-ns'\n[Errno 2] No such file or directory: '/Users/Play/Code/AI/knowledge-representation-2/<http:/ar.dbpedia.org/resource/365_يوم_سعادة_(فيلم)> <http:/www.w3.org/1999/02/22-rdf-syntax-ns'\n[Errno 2] No such file or directory: '/Users/Play/Code/AI/knowledge-representation-2/<http:/ar.dbpedia.org/resource/3_لصوص_(فيلم)> <http:/www.w3.org/1999/02/22-rdf-syntax-ns'\n[Errno 2] No such file or directory: '/Users/Play/Code/AI/knowledge-representation-2/<http:/ar.dbpedia.org/resource/45_يوم_(فيلم)> <http:/www.w3.org/1999/02/22-rdf-syntax-ns'\n[Errno 2] No such file or directory: '/Users/Play/Code/AI/knowledge-representation-2/<http:/ar.dbpedia.org/resource/4_أشهر،_3_أسابيع_ويومان> <http:/www.w3.org/1999/02/22-rdf-syntax-ns'\n[Errno 2] No such file or directory: '/Users/Play/Code/AI/knowledge-representation-2/<http:/ar.dbpedia.org/resource/50/50_(فيلم)> <http:/www.w3.org/1999/02/22-rdf-syntax-ns'\n[Errno 2] No such file or directory: '/Users/Play/Code/AI/knowledge-representation-2/<http:/ar.dbpedia.org/resource/55_إسعاف_(فيلم)> <http:/www.w3.org/1999/02/22-rdf-syntax-ns'\n[Errno 2] No such file or directory: '/Users/Play/Code/AI/knowledge-representation-2/<http:/ar.dbpedia.org/resource/678_(فيلم)> <http:/www.w3.org/1999/02/22-rdf-syntax-ns'\n[Errno 2] No such file or directory: '/Users/Play/Code/AI/knowledge-representation-2/<http:/ar.dbpedia.org/resource/7_أرطال_(فيلم)> <http:/www.w3.org/1999/02/22-rdf-syntax-ns'\n[Errno 2] No such file or directory: '/Users/Play/Code/AI/knowledge-representation-2/<http:/ar.dbpedia.org/resource/7_أيام_في_الجنة_(فيلم)> <http:/www.w3.org/1999/02/22-rdf-syntax-ns'\n[Errno 2] No such file or directory: '/Users/Play/Code/AI/knowledge-representation-2/<http:/ar.dbpedia.org/resource/7_شارع_الحبيب_بورقيبة_(فيلم)> <http:/www.w3.org/1999/02/22-rdf-syntax-ns'\n[Errno 2] No such file or directory: '/Users/Play/Code/AI/knowledge-representation-2/<http:/ar.dbpedia.org/resource/88_دقيقة> <http:/www.w3.org/1999/02/22-rdf-syntax-ns'\n[Errno 2] No such file or directory: '/Users/Play/Code/AI/knowledge-representation-2/<http:/ar.dbpedia.org/resource/8مم_(فيلم)> <http:/www.w3.org/1999/02/22-rdf-syntax-ns'\n[Errno 2] No such file or directory: '/Users/Play/Code/AI/knowledge-representation-2/<http:/ar.dbpedia.org/resource/90_دقيقة_(فيلم)> <http:/www.w3.org/1999/02/22-rdf-syntax-ns'\n[Errno 2] No such file or directory: '/Users/Play/Code/AI/knowledge-representation-2/<http:/ar.dbpedia.org/resource/A_Prairie_Home_Companion_(film)> <http:/www.w3.org/1999/02/22-rdf-syntax-ns'\n[Errno 2] No such file or directory: '/Users/Play/Code/AI/knowledge-representation-2/<http:/ar.dbpedia.org/resource/Mujhse_Fraaandship_Karoge> <http:/www.w3.org/1999/02/22-rdf-syntax-ns'\n[Errno 2] No such file or directory: '/Users/Play/Code/AI/knowledge-representation-2/<http:/ar.dbpedia.org/resource/Stauffenberg_(فيلم)> <http:/www.w3.org/1999/02/22-rdf-syntax-ns'\n[Errno 2] No such file or directory: '/Users/Play/Code/AI/knowledge-representation-2/<http:/ar.dbpedia.org/resource/آجا_ناشلي> <http:/www.w3.org/1999/02/22-rdf-syntax-ns'\n[Errno 2] No such file or directory: '/Users/Play/Code/AI/knowledge-representation-2/<http:/ar.dbpedia.org/resource/آخر_أيام_الأرض_(فيلم)> <http:/www.w3.org/1999/02/22-rdf-syntax-ns'\n[Errno 2] No such file or directory: '/Users/Play/Code/AI/knowledge-representation-2/<http:/ar.dbpedia.org/resource/آخر_حروب_صدام_(وثائقي)> <http:/www.w3.org/1999/02/22-rdf-syntax-ns'\n[Errno 2] No such file or directory: '/Users/Play/Code/AI/knowledge-representation-2/<http:/ar.dbpedia.org/resource/آخر_ديسمبر_(فيلم)> <http:/www.w3.org/1999/02/22-rdf-syntax-ns'\n[Errno 2] No such file or directory: '/Users/Play/Code/AI/knowledge-representation-2/<http:/ar.dbpedia.org/resource/آخر_رجل_على_الأرض> <http:/www.w3.org/1999/02/22-rdf-syntax-ns'\n[Errno 2] No such file or directory: '/Users/Play/Code/AI/knowledge-representation-2/<http:/ar.dbpedia.org/resource/آخر_ساموراي_(فيلم)> <http:/www.w3.org/1999/02/22-rdf-syntax-ns'\n[Errno 2] No such file or directory: '/Users/Play/Code/AI/knowledge-representation-2/<http:/ar.dbpedia.org/resource/آخر_فيلم_(فيلم)> <http:/www.w3.org/1999/02/22-rdf-syntax-ns'\n[Errno 2] No such file or directory: '/Users/Play/Code/AI/knowledge-representation-2/<http:/ar.dbpedia.org/resource/آخر_ملوك_إسكتلندا_(فيلم)> <http:/www.w3.org/1999/02/22-rdf-syntax-ns'\n[Errno 2] No such file or directory: '/Users/Play/Code/AI/knowledge-representation-2/<http:/ar.dbpedia.org/resource/آرجَو> <http:/www.w3.org/1999/02/22-rdf-syntax-ns'\n[Errno 2] No such file or directory: '/Users/Play/Code/AI/knowledge-representation-2/<http:/ar.dbpedia.org/resource/آريتي_المقترضة_(فيلم)> <http:/www.w3.org/1999/02/22-rdf-syntax-ns'\n[Errno 2] No such file or directory: '/Users/Play/Code/AI/knowledge-representation-2/<http:/ar.dbpedia.org/resource/آسف_على_الإزعاج_(فيلم)> <http:/www.w3.org/1999/02/22-rdf-syntax-ns'\n[Errno 2] No such file or directory: '/Users/Play/Code/AI/knowledge-representation-2/<http:/ar.dbpedia.org/resource/آغورا_(فيلم)> <http:/www.w3.org/1999/02/22-rdf-syntax-ns'\n[Errno 2] No such file or directory: '/Users/Play/Code/AI/knowledge-representation-2/<http:/ar.dbpedia.org/resource/آلام_المسيح_(فيلم)> <http:/www.w3.org/1999/02/22-rdf-syntax-ns'\n[Errno 2] No such file or directory: '/Users/Play/Code/AI/knowledge-representation-2/<http:/ar.dbpedia.org/resource/آلة_تشاركي_(فيلم)> <http:/www.w3.org/1999/02/22-rdf-syntax-ns'\n[Errno 2] No such file or directory: '/Users/Play/Code/AI/knowledge-representation-2/<http:/ar.dbpedia.org/resource/آميريكان_باي_(فيلم)> <http:/www.w3.org/1999/02/22-rdf-syntax-ns'\n[Errno 2] No such file or directory: '/Users/Play/Code/AI/knowledge-representation-2/<http:/ar.dbpedia.org/resource/آنا_كارنينا_(فيلم)> <http:/www.w3.org/1999/02/22-rdf-syntax-ns'\n[Errno 2] No such file or directory: '/Users/Play/Code/AI/knowledge-representation-2/<http:/ar.dbpedia.org/resource/آنستازيا_(فيلم_1997)> <http:/www.w3.org/1999/02/22-rdf-syntax-ns'\n[Errno 2] No such file or directory: '/Users/Play/Code/AI/knowledge-representation-2/<http:/ar.dbpedia.org/resource/آني_هال> <http:/www.w3.org/1999/02/22-rdf-syntax-ns'\n[Errno 2] No such file or directory: '/Users/Play/Code/AI/knowledge-representation-2/<http:/ar.dbpedia.org/resource/آه_من_حواء_(فيلم)> <http:/www.w3.org/1999/02/22-rdf-syntax-ns'\n[Errno 2] No such file or directory: '/Users/Play/Code/AI/knowledge-representation-2/<http:/ar.dbpedia.org/resource/آيرون_مان_(فيلم)> <http:/www.w3.org/1999/02/22-rdf-syntax-ns'\n[Errno 2] No such file or directory: '/Users/Play/Code/AI/knowledge-representation-2/<http:/ar.dbpedia.org/resource/آيرون_مان_2> <http:/www.w3.org/1999/02/22-rdf-syntax-ns'\n[Errno 2] No such file or directory: '/Users/Play/Code/AI/knowledge-representation-2/<http:/ar.dbpedia.org/resource/آيرون_مان_3_(فيلم)> <http:/www.w3.org/1999/02/22-rdf-syntax-ns'\n[Errno 2] No such file or directory: '/Users/Play/Code/AI/knowledge-representation-2/<http:/ar.dbpedia.org/resource/آيس_إيج_(فيلم)> <http:/www.w3.org/1999/02/22-rdf-syntax-ns'\n[Errno 2] No such file or directory: '/Users/Play/Code/AI/knowledge-representation-2/<http:/ar.dbpedia.org/resource/آيس_كريم_في_جليم_(فيلم)> <http:/www.w3.org/1999/02/22-rdf-syntax-ns'\n[Errno 2] No such file or directory: '/Users/Play/Code/AI/knowledge-representation-2/<http:/ar.dbpedia.org/resource/آيسيس:_أيرون_إيجل_3> <http:/www.w3.org/1999/02/22-rdf-syntax-ns'\n[Errno 2] No such file or directory: '/Users/Play/Code/AI/knowledge-representation-2/<http:/ar.dbpedia.org/resource/أ_برايري_هوم_كومبانيون_(فيلم)> <http:/www.w3.org/1999/02/22-rdf-syntax-ns'\n[Errno 2] No such file or directory: '/Users/Play/Code/AI/knowledge-representation-2/<http:/ar.dbpedia.org/resource/أبطال_كيلي_(فيلم)> <http:/www.w3.org/1999/02/22-rdf-syntax-ns'\n[Errno 2] No such file or directory: '/Users/Play/Code/AI/knowledge-representation-2/<http:/ar.dbpedia.org/resource/أبناء_الصمت_(فيلم)> <http:/www.w3.org/1999/02/22-rdf-syntax-ns'\n[Errno 2] No such file or directory: '/Users/Play/Code/AI/knowledge-representation-2/<http:/ar.dbpedia.org/resource/أبناء_وقتلة_(فيلم)> <http:/www.w3.org/1999/02/22-rdf-syntax-ns'\n[Errno 2] No such file or directory: '/Users/Play/Code/AI/knowledge-representation-2/<http:/ar.dbpedia.org/resource/أبواب_الجنة_(فيلم)> <http:/www.w3.org/1999/02/22-rdf-syntax-ns'\n[Errno 2] No such file or directory: '/Users/Play/Code/AI/knowledge-representation-2/<http:/ar.dbpedia.org/resource/أبوكاليبتو> <http:/www.w3.org/1999/02/22-rdf-syntax-ns'\n[Errno 2] No such file or directory: '/Users/Play/Code/AI/knowledge-representation-2/<http:/ar.dbpedia.org/resource/أبي_فوق_الشجرة_(فيلم)> <http:/www.w3.org/1999/02/22-rdf-syntax-ns'\n[Errno 2] No such file or directory: '/Users/Play/Code/AI/knowledge-representation-2/<http:/ar.dbpedia.org/resource/أثر_الثمالة_الجزء_الثالث_(فيلم)> <http:/www.w3.org/1999/02/22-rdf-syntax-ns'\n[Errno 2] No such file or directory: '/Users/Play/Code/AI/knowledge-representation-2/<http:/ar.dbpedia.org/resource/أثقل_من_الماء_(فيلم)> <http:/www.w3.org/1999/02/22-rdf-syntax-ns'\n[Errno 2] No such file or directory: '/Users/Play/Code/AI/knowledge-representation-2/<http:/ar.dbpedia.org/resource/أجمل_أيام_حياتي_(فيلم)> <http:/www.w3.org/1999/02/22-rdf-syntax-ns'\n[Errno 2] No such file or directory: '/Users/Play/Code/AI/knowledge-representation-2/<http:/ar.dbpedia.org/resource/أجنحة_الحمامة_(فيلم)> <http:/www.w3.org/1999/02/22-rdf-syntax-ns'\n[Errno 2] No such file or directory: '/Users/Play/Code/AI/knowledge-representation-2/<http:/ar.dbpedia.org/resource/أحاديث_عنهن_(فيلم)> <http:/www.w3.org/1999/02/22-rdf-syntax-ns'\n[Errno 2] No such file or directory: '/Users/Play/Code/AI/knowledge-representation-2/<http:/ar.dbpedia.org/resource/أحاسيس_(فيلم)> <http:/www.w3.org/1999/02/22-rdf-syntax-ns'\n[Errno 2] No such file or directory: '/Users/Play/Code/AI/knowledge-representation-2/<http:/ar.dbpedia.org/resource/أحبك_بيث_كوبر_(فيلم)> <http:/www.w3.org/1999/02/22-rdf-syntax-ns'\n[Errno 2] No such file or directory: '/Users/Play/Code/AI/knowledge-representation-2/<http:/ar.dbpedia.org/resource/أحبك_يا_رجل_(فيلم)> <http:/www.w3.org/1999/02/22-rdf-syntax-ns'\n[Errno 2] No such file or directory: '/Users/Play/Code/AI/knowledge-representation-2/<http:/ar.dbpedia.org/resource/أحداث_بدون_دلالة_(فيلم)> <http:/www.w3.org/1999/02/22-rdf-syntax-ns'\n"
     ]
    },
    {
     "name": "stderr",
     "output_type": "stream",
     "text": [
      "WARNING:rdflib.term:file:///Users/Play/Code/AI/knowledge-representation-2/<http:/ar.dbpedia.org/resource/أحدهم_طار_فوق_عش_الوقواق_(فيلم)> <http:/www.w3.org/1999/02/22-rdf-syntax-ns does not look like a valid URI, trying to serialize this will break.\n"
     ]
    },
    {
     "name": "stderr",
     "output_type": "stream",
     "text": [
      "WARNING:rdflib.term:file:///Users/Play/Code/AI/knowledge-representation-2/<http:/ar.dbpedia.org/resource/أحلام_الفتى_الطايش_(فيلم)> <http:/www.w3.org/1999/02/22-rdf-syntax-ns#type> <http://dbpedia.org/ontology/Film> .\n does not look like a valid URI, trying to serialize this will break.\n"
     ]
    },
    {
     "name": "stderr",
     "output_type": "stream",
     "text": [
      "WARNING:rdflib.term:file:///Users/Play/Code/AI/knowledge-representation-2/<http:/ar.dbpedia.org/resource/أحلام_الفتى_الطايش_(فيلم)> <http:/www.w3.org/1999/02/22-rdf-syntax-ns does not look like a valid URI, trying to serialize this will break.\n"
     ]
    },
    {
     "name": "stderr",
     "output_type": "stream",
     "text": [
      "WARNING:rdflib.term:file:///Users/Play/Code/AI/knowledge-representation-2/<http:/ar.dbpedia.org/resource/أحلام_الفيلة> <http:/www.w3.org/1999/02/22-rdf-syntax-ns#type> <http://dbpedia.org/ontology/Film> .\n does not look like a valid URI, trying to serialize this will break.\n"
     ]
    },
    {
     "name": "stderr",
     "output_type": "stream",
     "text": [
      "WARNING:rdflib.term:file:///Users/Play/Code/AI/knowledge-representation-2/<http:/ar.dbpedia.org/resource/أحلام_الفيلة> <http:/www.w3.org/1999/02/22-rdf-syntax-ns does not look like a valid URI, trying to serialize this will break.\n"
     ]
    },
    {
     "name": "stderr",
     "output_type": "stream",
     "text": [
      "WARNING:rdflib.term:file:///Users/Play/Code/AI/knowledge-representation-2/<http:/ar.dbpedia.org/resource/أحلام_المدينة_(فيلم)> <http:/www.w3.org/1999/02/22-rdf-syntax-ns#type> <http://dbpedia.org/ontology/Film> .\n does not look like a valid URI, trying to serialize this will break.\n"
     ]
    },
    {
     "name": "stderr",
     "output_type": "stream",
     "text": [
      "WARNING:rdflib.term:file:///Users/Play/Code/AI/knowledge-representation-2/<http:/ar.dbpedia.org/resource/أحلام_المدينة_(فيلم)> <http:/www.w3.org/1999/02/22-rdf-syntax-ns does not look like a valid URI, trying to serialize this will break.\n"
     ]
    },
    {
     "name": "stderr",
     "output_type": "stream",
     "text": [
      "WARNING:rdflib.term:file:///Users/Play/Code/AI/knowledge-representation-2/<http:/ar.dbpedia.org/resource/أحلام_حقيقية_(فيلم)> <http:/www.w3.org/1999/02/22-rdf-syntax-ns#type> <http://dbpedia.org/ontology/Film> .\n does not look like a valid URI, trying to serialize this will break.\n"
     ]
    },
    {
     "name": "stderr",
     "output_type": "stream",
     "text": [
      "WARNING:rdflib.term:file:///Users/Play/Code/AI/knowledge-representation-2/<http:/ar.dbpedia.org/resource/أحلام_حقيقية_(فيلم)> <http:/www.w3.org/1999/02/22-rdf-syntax-ns does not look like a valid URI, trying to serialize this will break.\n"
     ]
    },
    {
     "name": "stderr",
     "output_type": "stream",
     "text": [
      "WARNING:rdflib.term:file:///Users/Play/Code/AI/knowledge-representation-2/<http:/ar.dbpedia.org/resource/أحلام_هند_وكاميليا_(فيلم)> <http:/www.w3.org/1999/02/22-rdf-syntax-ns#type> <http://dbpedia.org/ontology/Film> .\n does not look like a valid URI, trying to serialize this will break.\n"
     ]
    },
    {
     "name": "stderr",
     "output_type": "stream",
     "text": [
      "WARNING:rdflib.term:file:///Users/Play/Code/AI/knowledge-representation-2/<http:/ar.dbpedia.org/resource/أحلام_هند_وكاميليا_(فيلم)> <http:/www.w3.org/1999/02/22-rdf-syntax-ns does not look like a valid URI, trying to serialize this will break.\n"
     ]
    },
    {
     "name": "stderr",
     "output_type": "stream",
     "text": [
      "WARNING:rdflib.term:file:///Users/Play/Code/AI/knowledge-representation-2/<http:/ar.dbpedia.org/resource/أحلى_الأوقات> <http:/www.w3.org/1999/02/22-rdf-syntax-ns#type> <http://dbpedia.org/ontology/Film> .\n does not look like a valid URI, trying to serialize this will break.\n"
     ]
    },
    {
     "name": "stderr",
     "output_type": "stream",
     "text": [
      "WARNING:rdflib.term:file:///Users/Play/Code/AI/knowledge-representation-2/<http:/ar.dbpedia.org/resource/أحلى_الأوقات> <http:/www.w3.org/1999/02/22-rdf-syntax-ns does not look like a valid URI, trying to serialize this will break.\n"
     ]
    },
    {
     "name": "stderr",
     "output_type": "stream",
     "text": [
      "WARNING:rdflib.term:file:///Users/Play/Code/AI/knowledge-representation-2/<http:/ar.dbpedia.org/resource/أختي_(فيلم)> <http:/www.w3.org/1999/02/22-rdf-syntax-ns#type> <http://dbpedia.org/ontology/Film> .\n does not look like a valid URI, trying to serialize this will break.\n"
     ]
    },
    {
     "name": "stderr",
     "output_type": "stream",
     "text": [
      "WARNING:rdflib.term:file:///Users/Play/Code/AI/knowledge-representation-2/<http:/ar.dbpedia.org/resource/أختي_(فيلم)> <http:/www.w3.org/1999/02/22-rdf-syntax-ns does not look like a valid URI, trying to serialize this will break.\n"
     ]
    },
    {
     "name": "stderr",
     "output_type": "stream",
     "text": [
      "WARNING:rdflib.term:file:///Users/Play/Code/AI/knowledge-representation-2/<http:/ar.dbpedia.org/resource/أخر_كلام_(فيلم)> <http:/www.w3.org/1999/02/22-rdf-syntax-ns#type> <http://dbpedia.org/ontology/Film> .\n does not look like a valid URI, trying to serialize this will break.\n"
     ]
    },
    {
     "name": "stderr",
     "output_type": "stream",
     "text": [
      "WARNING:rdflib.term:file:///Users/Play/Code/AI/knowledge-representation-2/<http:/ar.dbpedia.org/resource/أخر_كلام_(فيلم)> <http:/www.w3.org/1999/02/22-rdf-syntax-ns does not look like a valid URI, trying to serialize this will break.\n"
     ]
    },
    {
     "name": "stderr",
     "output_type": "stream",
     "text": [
      "WARNING:rdflib.term:file:///Users/Play/Code/AI/knowledge-representation-2/<http:/ar.dbpedia.org/resource/أخواته_البنات_(فيلم)> <http:/www.w3.org/1999/02/22-rdf-syntax-ns#type> <http://dbpedia.org/ontology/Film> .\n does not look like a valid URI, trying to serialize this will break.\n"
     ]
    },
    {
     "name": "stderr",
     "output_type": "stream",
     "text": [
      "WARNING:rdflib.term:file:///Users/Play/Code/AI/knowledge-representation-2/<http:/ar.dbpedia.org/resource/أخواته_البنات_(فيلم)> <http:/www.w3.org/1999/02/22-rdf-syntax-ns does not look like a valid URI, trying to serialize this will break.\n"
     ]
    },
    {
     "name": "stderr",
     "output_type": "stream",
     "text": [
      "WARNING:rdflib.term:file:///Users/Play/Code/AI/knowledge-representation-2/<http:/ar.dbpedia.org/resource/أدرينالين_(فيلم)> <http:/www.w3.org/1999/02/22-rdf-syntax-ns#type> <http://dbpedia.org/ontology/Film> .\n does not look like a valid URI, trying to serialize this will break.\n"
     ]
    },
    {
     "name": "stderr",
     "output_type": "stream",
     "text": [
      "WARNING:rdflib.term:file:///Users/Play/Code/AI/knowledge-representation-2/<http:/ar.dbpedia.org/resource/أدرينالين_(فيلم)> <http:/www.w3.org/1999/02/22-rdf-syntax-ns does not look like a valid URI, trying to serialize this will break.\n"
     ]
    },
    {
     "name": "stderr",
     "output_type": "stream",
     "text": [
      "WARNING:rdflib.term:file:///Users/Play/Code/AI/knowledge-representation-2/<http:/ar.dbpedia.org/resource/أدهم_الشرقاوي_(فيلم)> <http:/www.w3.org/1999/02/22-rdf-syntax-ns#type> <http://dbpedia.org/ontology/Film> .\n does not look like a valid URI, trying to serialize this will break.\n"
     ]
    },
    {
     "name": "stderr",
     "output_type": "stream",
     "text": [
      "WARNING:rdflib.term:file:///Users/Play/Code/AI/knowledge-representation-2/<http:/ar.dbpedia.org/resource/أدهم_الشرقاوي_(فيلم)> <http:/www.w3.org/1999/02/22-rdf-syntax-ns does not look like a valid URI, trying to serialize this will break.\n"
     ]
    },
    {
     "name": "stderr",
     "output_type": "stream",
     "text": [
      "WARNING:rdflib.term:file:///Users/Play/Code/AI/knowledge-representation-2/<http:/ar.dbpedia.org/resource/أذكياء_لكن_أغبياء_(فيلم)> <http:/www.w3.org/1999/02/22-rdf-syntax-ns#type> <http://dbpedia.org/ontology/Film> .\n does not look like a valid URI, trying to serialize this will break.\n"
     ]
    },
    {
     "name": "stderr",
     "output_type": "stream",
     "text": [
      "WARNING:rdflib.term:file:///Users/Play/Code/AI/knowledge-representation-2/<http:/ar.dbpedia.org/resource/أذكياء_لكن_أغبياء_(فيلم)> <http:/www.w3.org/1999/02/22-rdf-syntax-ns does not look like a valid URI, trying to serialize this will break.\n"
     ]
    },
    {
     "name": "stderr",
     "output_type": "stream",
     "text": [
      "WARNING:rdflib.term:file:///Users/Play/Code/AI/knowledge-representation-2/<http:/ar.dbpedia.org/resource/أربع_نساء_من_مصر> <http:/www.w3.org/1999/02/22-rdf-syntax-ns#type> <http://dbpedia.org/ontology/Film> .\n does not look like a valid URI, trying to serialize this will break.\n"
     ]
    },
    {
     "name": "stderr",
     "output_type": "stream",
     "text": [
      "WARNING:rdflib.term:file:///Users/Play/Code/AI/knowledge-representation-2/<http:/ar.dbpedia.org/resource/أربع_نساء_من_مصر> <http:/www.w3.org/1999/02/22-rdf-syntax-ns does not look like a valid URI, trying to serialize this will break.\n"
     ]
    },
    {
     "name": "stderr",
     "output_type": "stream",
     "text": [
      "WARNING:rdflib.term:file:///Users/Play/Code/AI/knowledge-representation-2/<http:/ar.dbpedia.org/resource/أربعة_في_مهمة_رسمية_(فيلم)> <http:/www.w3.org/1999/02/22-rdf-syntax-ns#type> <http://dbpedia.org/ontology/Film> .\n does not look like a valid URI, trying to serialize this will break.\n"
     ]
    },
    {
     "name": "stderr",
     "output_type": "stream",
     "text": [
      "WARNING:rdflib.term:file:///Users/Play/Code/AI/knowledge-representation-2/<http:/ar.dbpedia.org/resource/أربعة_في_مهمة_رسمية_(فيلم)> <http:/www.w3.org/1999/02/22-rdf-syntax-ns does not look like a valid URI, trying to serialize this will break.\n"
     ]
    },
    {
     "name": "stderr",
     "output_type": "stream",
     "text": [
      "WARNING:rdflib.term:file:///Users/Play/Code/AI/knowledge-representation-2/<http:/ar.dbpedia.org/resource/أرض_الخوف_(فيلم)> <http:/www.w3.org/1999/02/22-rdf-syntax-ns#type> <http://dbpedia.org/ontology/Film> .\n does not look like a valid URI, trying to serialize this will break.\n"
     ]
    },
    {
     "name": "stderr",
     "output_type": "stream",
     "text": [
      "WARNING:rdflib.term:file:///Users/Play/Code/AI/knowledge-representation-2/<http:/ar.dbpedia.org/resource/أرض_الخوف_(فيلم)> <http:/www.w3.org/1999/02/22-rdf-syntax-ns does not look like a valid URI, trying to serialize this will break.\n"
     ]
    },
    {
     "name": "stderr",
     "output_type": "stream",
     "text": [
      "WARNING:rdflib.term:file:///Users/Play/Code/AI/knowledge-representation-2/<http:/ar.dbpedia.org/resource/أرض_السلام_(فيلم)> <http:/www.w3.org/1999/02/22-rdf-syntax-ns#type> <http://dbpedia.org/ontology/Film> .\n does not look like a valid URI, trying to serialize this will break.\n"
     ]
    },
    {
     "name": "stderr",
     "output_type": "stream",
     "text": [
      "WARNING:rdflib.term:file:///Users/Play/Code/AI/knowledge-representation-2/<http:/ar.dbpedia.org/resource/أرض_السلام_(فيلم)> <http:/www.w3.org/1999/02/22-rdf-syntax-ns does not look like a valid URI, trying to serialize this will break.\n"
     ]
    },
    {
     "name": "stderr",
     "output_type": "stream",
     "text": [
      "WARNING:rdflib.term:file:///Users/Play/Code/AI/knowledge-representation-2/<http:/ar.dbpedia.org/resource/أرض_العميان_(فيلم)> <http:/www.w3.org/1999/02/22-rdf-syntax-ns#type> <http://dbpedia.org/ontology/Film> .\n does not look like a valid URI, trying to serialize this will break.\n"
     ]
    },
    {
     "name": "stderr",
     "output_type": "stream",
     "text": [
      "WARNING:rdflib.term:file:///Users/Play/Code/AI/knowledge-representation-2/<http:/ar.dbpedia.org/resource/أرض_العميان_(فيلم)> <http:/www.w3.org/1999/02/22-rdf-syntax-ns does not look like a valid URI, trying to serialize this will break.\n"
     ]
    },
    {
     "name": "stderr",
     "output_type": "stream",
     "text": [
      "WARNING:rdflib.term:file:///Users/Play/Code/AI/knowledge-representation-2/<http:/ar.dbpedia.org/resource/أرض_النفاق_(فيلم)> <http:/www.w3.org/1999/02/22-rdf-syntax-ns#type> <http://dbpedia.org/ontology/Film> .\n does not look like a valid URI, trying to serialize this will break.\n"
     ]
    },
    {
     "name": "stderr",
     "output_type": "stream",
     "text": [
      "WARNING:rdflib.term:file:///Users/Play/Code/AI/knowledge-representation-2/<http:/ar.dbpedia.org/resource/أرض_النفاق_(فيلم)> <http:/www.w3.org/1999/02/22-rdf-syntax-ns does not look like a valid URI, trying to serialize this will break.\n"
     ]
    },
    {
     "name": "stderr",
     "output_type": "stream",
     "text": [
      "WARNING:rdflib.term:file:///Users/Play/Code/AI/knowledge-representation-2/<http:/ar.dbpedia.org/resource/أرق_(فيلم_2002)> <http:/www.w3.org/1999/02/22-rdf-syntax-ns#type> <http://dbpedia.org/ontology/Film> .\n does not look like a valid URI, trying to serialize this will break.\n"
     ]
    },
    {
     "name": "stderr",
     "output_type": "stream",
     "text": [
      "WARNING:rdflib.term:file:///Users/Play/Code/AI/knowledge-representation-2/<http:/ar.dbpedia.org/resource/أرق_(فيلم_2002)> <http:/www.w3.org/1999/02/22-rdf-syntax-ns does not look like a valid URI, trying to serialize this will break.\n"
     ]
    },
    {
     "name": "stderr",
     "output_type": "stream",
     "text": [
      "WARNING:rdflib.term:file:///Users/Play/Code/AI/knowledge-representation-2/<http:/ar.dbpedia.org/resource/أرمجدون_(فيلم)> <http:/www.w3.org/1999/02/22-rdf-syntax-ns#type> <http://dbpedia.org/ontology/Film> .\n does not look like a valid URI, trying to serialize this will break.\n"
     ]
    },
    {
     "name": "stderr",
     "output_type": "stream",
     "text": [
      "WARNING:rdflib.term:file:///Users/Play/Code/AI/knowledge-representation-2/<http:/ar.dbpedia.org/resource/أرمجدون_(فيلم)> <http:/www.w3.org/1999/02/22-rdf-syntax-ns does not look like a valid URI, trying to serialize this will break.\n"
     ]
    },
    {
     "name": "stderr",
     "output_type": "stream",
     "text": [
      "WARNING:rdflib.term:file:///Users/Play/Code/AI/knowledge-representation-2/<http:/ar.dbpedia.org/resource/أرملة_رجل_حي_(فيلم)> <http:/www.w3.org/1999/02/22-rdf-syntax-ns#type> <http://dbpedia.org/ontology/Film> .\n does not look like a valid URI, trying to serialize this will break.\n"
     ]
    },
    {
     "name": "stderr",
     "output_type": "stream",
     "text": [
      "WARNING:rdflib.term:file:///Users/Play/Code/AI/knowledge-representation-2/<http:/ar.dbpedia.org/resource/أرملة_رجل_حي_(فيلم)> <http:/www.w3.org/1999/02/22-rdf-syntax-ns does not look like a valid URI, trying to serialize this will break.\n"
     ]
    },
    {
     "name": "stderr",
     "output_type": "stream",
     "text": [
      "WARNING:rdflib.term:file:///Users/Play/Code/AI/knowledge-representation-2/<http:/ar.dbpedia.org/resource/أروقة_القصر> <http:/www.w3.org/1999/02/22-rdf-syntax-ns#type> <http://dbpedia.org/ontology/Film> .\n does not look like a valid URI, trying to serialize this will break.\n"
     ]
    },
    {
     "name": "stderr",
     "output_type": "stream",
     "text": [
      "WARNING:rdflib.term:file:///Users/Play/Code/AI/knowledge-representation-2/<http:/ar.dbpedia.org/resource/أروقة_القصر> <http:/www.w3.org/1999/02/22-rdf-syntax-ns does not look like a valid URI, trying to serialize this will break."
     ]
    },
    {
     "name": "stderr",
     "output_type": "stream",
     "text": [
      "\n"
     ]
    },
    {
     "name": "stderr",
     "output_type": "stream",
     "text": [
      "WARNING:rdflib.term:file:///Users/Play/Code/AI/knowledge-representation-2/<http:/ar.dbpedia.org/resource/أريد_حلا_(فيلم)> <http:/www.w3.org/1999/02/22-rdf-syntax-ns#type> <http://dbpedia.org/ontology/Film> .\n does not look like a valid URI, trying to serialize this will break.\n"
     ]
    },
    {
     "name": "stderr",
     "output_type": "stream",
     "text": [
      "WARNING:rdflib.term:file:///Users/Play/Code/AI/knowledge-representation-2/<http:/ar.dbpedia.org/resource/أريد_حلا_(فيلم)> <http:/www.w3.org/1999/02/22-rdf-syntax-ns does not look like a valid URI, trying to serialize this will break.\n"
     ]
    },
    {
     "name": "stderr",
     "output_type": "stream",
     "text": [
      "WARNING:rdflib.term:file:///Users/Play/Code/AI/knowledge-representation-2/<http:/ar.dbpedia.org/resource/أريد_خلعا_(فيلم)> <http:/www.w3.org/1999/02/22-rdf-syntax-ns#type> <http://dbpedia.org/ontology/Film> .\n does not look like a valid URI, trying to serialize this will break.\n"
     ]
    },
    {
     "name": "stderr",
     "output_type": "stream",
     "text": [
      "WARNING:rdflib.term:file:///Users/Play/Code/AI/knowledge-representation-2/<http:/ar.dbpedia.org/resource/أريد_خلعا_(فيلم)> <http:/www.w3.org/1999/02/22-rdf-syntax-ns does not look like a valid URI, trying to serialize this will break.\n"
     ]
    },
    {
     "name": "stderr",
     "output_type": "stream",
     "text": [
      "WARNING:rdflib.term:file:///Users/Play/Code/AI/knowledge-representation-2/<http:/ar.dbpedia.org/resource/أريد_خلعاً_(فيلم)> <http:/www.w3.org/1999/02/22-rdf-syntax-ns#type> <http://dbpedia.org/ontology/Film> .\n does not look like a valid URI, trying to serialize this will break.\n"
     ]
    },
    {
     "name": "stderr",
     "output_type": "stream",
     "text": [
      "WARNING:rdflib.term:file:///Users/Play/Code/AI/knowledge-representation-2/<http:/ar.dbpedia.org/resource/أريد_خلعاً_(فيلم)> <http:/www.w3.org/1999/02/22-rdf-syntax-ns does not look like a valid URI, trying to serialize this will break.\n"
     ]
    },
    {
     "name": "stderr",
     "output_type": "stream",
     "text": [
      "WARNING:rdflib.term:file:///Users/Play/Code/AI/knowledge-representation-2/<http:/ar.dbpedia.org/resource/أزمة_شرف_(فيلم)> <http:/www.w3.org/1999/02/22-rdf-syntax-ns#type> <http://dbpedia.org/ontology/Film> .\n does not look like a valid URI, trying to serialize this will break.\n"
     ]
    },
    {
     "name": "stderr",
     "output_type": "stream",
     "text": [
      "WARNING:rdflib.term:file:///Users/Play/Code/AI/knowledge-representation-2/<http:/ar.dbpedia.org/resource/أزمة_شرف_(فيلم)> <http:/www.w3.org/1999/02/22-rdf-syntax-ns does not look like a valid URI, trying to serialize this will break.\n"
     ]
    },
    {
     "name": "stderr",
     "output_type": "stream",
     "text": [
      "WARNING:rdflib.term:file:///Users/Play/Code/AI/knowledge-representation-2/<http:/ar.dbpedia.org/resource/أساطير_الخريف_(فيلم)> <http:/www.w3.org/1999/02/22-rdf-syntax-ns#type> <http://dbpedia.org/ontology/Film> .\n does not look like a valid URI, trying to serialize this will break.\n"
     ]
    },
    {
     "name": "stderr",
     "output_type": "stream",
     "text": [
      "WARNING:rdflib.term:file:///Users/Play/Code/AI/knowledge-representation-2/<http:/ar.dbpedia.org/resource/أساطير_الخريف_(فيلم)> <http:/www.w3.org/1999/02/22-rdf-syntax-ns does not look like a valid URI, trying to serialize this will break.\n"
     ]
    },
    {
     "name": "stderr",
     "output_type": "stream",
     "text": [
      "WARNING:rdflib.term:file:///Users/Play/Code/AI/knowledge-representation-2/<http:/ar.dbpedia.org/resource/أسد_الصحراء_(فيلم)> <http:/www.w3.org/1999/02/22-rdf-syntax-ns#type> <http://dbpedia.org/ontology/Film> .\n does not look like a valid URI, trying to serialize this will break.\n"
     ]
    },
    {
     "name": "stderr",
     "output_type": "stream",
     "text": [
      "WARNING:rdflib.term:file:///Users/Play/Code/AI/knowledge-representation-2/<http:/ar.dbpedia.org/resource/أسد_الصحراء_(فيلم)> <http:/www.w3.org/1999/02/22-rdf-syntax-ns does not look like a valid URI, trying to serialize this will break.\n"
     ]
    },
    {
     "name": "stderr",
     "output_type": "stream",
     "text": [
      "WARNING:rdflib.term:file:///Users/Play/Code/AI/knowledge-representation-2/<http:/ar.dbpedia.org/resource/أسد_وأربع_قطط_(فيلم)> <http:/www.w3.org/1999/02/22-rdf-syntax-ns#type> <http://dbpedia.org/ontology/Film> .\n does not look like a valid URI, trying to serialize this will break."
     ]
    },
    {
     "name": "stderr",
     "output_type": "stream",
     "text": [
      "\n"
     ]
    },
    {
     "name": "stderr",
     "output_type": "stream",
     "text": [
      "WARNING:rdflib.term:file:///Users/Play/Code/AI/knowledge-representation-2/<http:/ar.dbpedia.org/resource/أسد_وأربع_قطط_(فيلم)> <http:/www.w3.org/1999/02/22-rdf-syntax-ns does not look like a valid URI, trying to serialize this will break."
     ]
    },
    {
     "name": "stderr",
     "output_type": "stream",
     "text": [
      "\n"
     ]
    },
    {
     "name": "stderr",
     "output_type": "stream",
     "text": [
      "WARNING:rdflib.term:file:///Users/Play/Code/AI/knowledge-representation-2/<http:/ar.dbpedia.org/resource/أسرار_البنات_(فيلم)> <http:/www.w3.org/1999/02/22-rdf-syntax-ns#type> <http://dbpedia.org/ontology/Film> .\n does not look like a valid URI, trying to serialize this will break.\n"
     ]
    },
    {
     "name": "stderr",
     "output_type": "stream",
     "text": [
      "WARNING:rdflib.term:file:///Users/Play/Code/AI/knowledge-representation-2/<http:/ar.dbpedia.org/resource/أسرار_البنات_(فيلم)> <http:/www.w3.org/1999/02/22-rdf-syntax-ns does not look like a valid URI, trying to serialize this will break.\n"
     ]
    },
    {
     "name": "stderr",
     "output_type": "stream",
     "text": [
      "WARNING:rdflib.term:file:///Users/Play/Code/AI/knowledge-representation-2/<http:/ar.dbpedia.org/resource/أسرار_الناس_(فيلم)> <http:/www.w3.org/1999/02/22-rdf-syntax-ns#type> <http://dbpedia.org/ontology/Film> .\n does not look like a valid URI, trying to serialize this will break.\n"
     ]
    },
    {
     "name": "stderr",
     "output_type": "stream",
     "text": [
      "WARNING:rdflib.term:file:///Users/Play/Code/AI/knowledge-representation-2/<http:/ar.dbpedia.org/resource/أسرار_الناس_(فيلم)> <http:/www.w3.org/1999/02/22-rdf-syntax-ns does not look like a valid URI, trying to serialize this will break."
     ]
    },
    {
     "name": "stderr",
     "output_type": "stream",
     "text": [
      "\n"
     ]
    },
    {
     "name": "stderr",
     "output_type": "stream",
     "text": [
      "WARNING:rdflib.term:file:///Users/Play/Code/AI/knowledge-representation-2/<http:/ar.dbpedia.org/resource/أسطورة_مريدا_(فيلم_2012)> <http:/www.w3.org/1999/02/22-rdf-syntax-ns#type> <http://dbpedia.org/ontology/Film> .\n does not look like a valid URI, trying to serialize this will break.\n"
     ]
    },
    {
     "name": "stderr",
     "output_type": "stream",
     "text": [
      "WARNING:rdflib.term:file:///Users/Play/Code/AI/knowledge-representation-2/<http:/ar.dbpedia.org/resource/أسطورة_مريدا_(فيلم_2012)> <http:/www.w3.org/1999/02/22-rdf-syntax-ns does not look like a valid URI, trying to serialize this will break.\n"
     ]
    },
    {
     "name": "stderr",
     "output_type": "stream",
     "text": [
      "WARNING:rdflib.term:file:///Users/Play/Code/AI/knowledge-representation-2/<http:/ar.dbpedia.org/resource/أسماء_(فيلم)> <http:/www.w3.org/1999/02/22-rdf-syntax-ns#type> <http://dbpedia.org/ontology/Film> .\n does not look like a valid URI, trying to serialize this will break.\n"
     ]
    },
    {
     "name": "stderr",
     "output_type": "stream",
     "text": [
      "WARNING:rdflib.term:file:///Users/Play/Code/AI/knowledge-representation-2/<http:/ar.dbpedia.org/resource/أسماء_(فيلم)> <http:/www.w3.org/1999/02/22-rdf-syntax-ns does not look like a valid URI, trying to serialize this will break.\n"
     ]
    },
    {
     "name": "stderr",
     "output_type": "stream",
     "text": [
      "WARNING:rdflib.term:file:///Users/Play/Code/AI/knowledge-representation-2/<http:/ar.dbpedia.org/resource/أسياد_دوقتون> <http:/www.w3.org/1999/02/22-rdf-syntax-ns#type> <http://dbpedia.org/ontology/Film> .\n does not look like a valid URI, trying to serialize this will break.\n"
     ]
    },
    {
     "name": "stderr",
     "output_type": "stream",
     "text": [
      "WARNING:rdflib.term:file:///Users/Play/Code/AI/knowledge-representation-2/<http:/ar.dbpedia.org/resource/أسياد_دوقتون> <http:/www.w3.org/1999/02/22-rdf-syntax-ns does not look like a valid URI, trying to serialize this will break."
     ]
    },
    {
     "name": "stderr",
     "output_type": "stream",
     "text": [
      "\n"
     ]
    },
    {
     "name": "stderr",
     "output_type": "stream",
     "text": [
      "WARNING:rdflib.term:file:///Users/Play/Code/AI/knowledge-representation-2/<http:/ar.dbpedia.org/resource/أشباح_صديقات_الماضي> <http:/www.w3.org/1999/02/22-rdf-syntax-ns#type> <http://dbpedia.org/ontology/Film> .\n does not look like a valid URI, trying to serialize this will break.\n"
     ]
    },
    {
     "name": "stderr",
     "output_type": "stream",
     "text": [
      "WARNING:rdflib.term:file:///Users/Play/Code/AI/knowledge-representation-2/<http:/ar.dbpedia.org/resource/أشباح_صديقات_الماضي> <http:/www.w3.org/1999/02/22-rdf-syntax-ns does not look like a valid URI, trying to serialize this will break.\n"
     ]
    },
    {
     "name": "stderr",
     "output_type": "stream",
     "text": [
      "WARNING:rdflib.term:file:///Users/Play/Code/AI/knowledge-representation-2/<http:/ar.dbpedia.org/resource/أشتاتا_أشتوت_(فيلم)> <http:/www.w3.org/1999/02/22-rdf-syntax-ns#type> <http://dbpedia.org/ontology/Film> .\n does not look like a valid URI, trying to serialize this will break.\n"
     ]
    },
    {
     "name": "stderr",
     "output_type": "stream",
     "text": [
      "WARNING:rdflib.term:file:///Users/Play/Code/AI/knowledge-representation-2/<http:/ar.dbpedia.org/resource/أشتاتا_أشتوت_(فيلم)> <http:/www.w3.org/1999/02/22-rdf-syntax-ns does not look like a valid URI, trying to serialize this will break.\n"
     ]
    },
    {
     "name": "stderr",
     "output_type": "stream",
     "text": [
      "WARNING:rdflib.term:file:///Users/Play/Code/AI/knowledge-representation-2/<http:/ar.dbpedia.org/resource/أشتاتاً_أشتوت_(فيلم)> <http:/www.w3.org/1999/02/22-rdf-syntax-ns#type> <http://dbpedia.org/ontology/Film> .\n does not look like a valid URI, trying to serialize this will break.\n"
     ]
    },
    {
     "name": "stderr",
     "output_type": "stream",
     "text": [
      "WARNING:rdflib.term:file:///Users/Play/Code/AI/knowledge-representation-2/<http:/ar.dbpedia.org/resource/أشتاتاً_أشتوت_(فيلم)> <http:/www.w3.org/1999/02/22-rdf-syntax-ns does not look like a valid URI, trying to serialize this will break.\n"
     ]
    },
    {
     "name": "stderr",
     "output_type": "stream",
     "text": [
      "WARNING:rdflib.term:file:///Users/Play/Code/AI/knowledge-representation-2/<http:/ar.dbpedia.org/resource/أشخاص_ظرفاء_(فيلم)> <http:/www.w3.org/1999/02/22-rdf-syntax-ns#type> <http://dbpedia.org/ontology/Film> .\n does not look like a valid URI, trying to serialize this will break.\n"
     ]
    },
    {
     "name": "stderr",
     "output_type": "stream",
     "text": [
      "WARNING:rdflib.term:file:///Users/Play/Code/AI/knowledge-representation-2/<http:/ar.dbpedia.org/resource/أشخاص_ظرفاء_(فيلم)> <http:/www.w3.org/1999/02/22-rdf-syntax-ns does not look like a valid URI, trying to serialize this will break.\n"
     ]
    },
    {
     "name": "stderr",
     "output_type": "stream",
     "text": [
      "WARNING:rdflib.term:file:///Users/Play/Code/AI/knowledge-representation-2/<http:/ar.dbpedia.org/resource/أشرف_حرامي_(فيلم)> <http:/www.w3.org/1999/02/22-rdf-syntax-ns#type> <http://dbpedia.org/ontology/Film> .\n does not look like a valid URI, trying to serialize this will break.\n"
     ]
    },
    {
     "name": "stderr",
     "output_type": "stream",
     "text": [
      "WARNING:rdflib.term:file:///Users/Play/Code/AI/knowledge-representation-2/<http:/ar.dbpedia.org/resource/أشرف_حرامي_(فيلم)> <http:/www.w3.org/1999/02/22-rdf-syntax-ns does not look like a valid URI, trying to serialize this will break.\n"
     ]
    },
    {
     "name": "stderr",
     "output_type": "stream",
     "text": [
      "WARNING:rdflib.term:file:///Users/Play/Code/AI/knowledge-representation-2/<http:/ar.dbpedia.org/resource/أشياء_فقدناها_في_الحريق_(فيلم)> <http:/www.w3.org/1999/02/22-rdf-syntax-ns#type> <http://dbpedia.org/ontology/Film> .\n does not look like a valid URI, trying to serialize this will break.\n"
     ]
    },
    {
     "name": "stderr",
     "output_type": "stream",
     "text": [
      "WARNING:rdflib.term:file:///Users/Play/Code/AI/knowledge-representation-2/<http:/ar.dbpedia.org/resource/أشياء_فقدناها_في_الحريق_(فيلم)> <http:/www.w3.org/1999/02/22-rdf-syntax-ns does not look like a valid URI, trying to serialize this will break.\n"
     ]
    },
    {
     "name": "stderr",
     "output_type": "stream",
     "text": [
      "WARNING:rdflib.term:file:///Users/Play/Code/AI/knowledge-representation-2/<http:/ar.dbpedia.org/resource/أصدقاء_الأمس_(فيلم)> <http:/www.w3.org/1999/02/22-rdf-syntax-ns#type> <http://dbpedia.org/ontology/Film> .\n does not look like a valid URI, trying to serialize this will break.\n"
     ]
    },
    {
     "name": "stderr",
     "output_type": "stream",
     "text": [
      "WARNING:rdflib.term:file:///Users/Play/Code/AI/knowledge-representation-2/<http:/ar.dbpedia.org/resource/أصدقاء_الأمس_(فيلم)> <http:/www.w3.org/1999/02/22-rdf-syntax-ns does not look like a valid URI, trying to serialize this will break.\n"
     ]
    },
    {
     "name": "stderr",
     "output_type": "stream",
     "text": [
      "WARNING:rdflib.term:file:///Users/Play/Code/AI/knowledge-representation-2/<http:/ar.dbpedia.org/resource/أصيل_(فيلم)> <http:/www.w3.org/1999/02/22-rdf-syntax-ns#type> <http://dbpedia.org/ontology/Film> .\n does not look like a valid URI, trying to serialize this will break.\n"
     ]
    },
    {
     "name": "stderr",
     "output_type": "stream",
     "text": [
      "WARNING:rdflib.term:file:///Users/Play/Code/AI/knowledge-representation-2/<http:/ar.dbpedia.org/resource/أصيل_(فيلم)> <http:/www.w3.org/1999/02/22-rdf-syntax-ns does not look like a valid URI, trying to serialize this will break.\n"
     ]
    },
    {
     "name": "stderr",
     "output_type": "stream",
     "text": [
      "WARNING:rdflib.term:file:///Users/Play/Code/AI/knowledge-representation-2/<http:/ar.dbpedia.org/resource/أضواء_المدينة_(فيلم)> <http:/www.w3.org/1999/02/22-rdf-syntax-ns#type> <http://dbpedia.org/ontology/Film> .\n does not look like a valid URI, trying to serialize this will break.\n"
     ]
    },
    {
     "name": "stderr",
     "output_type": "stream",
     "text": [
      "WARNING:rdflib.term:file:///Users/Play/Code/AI/knowledge-representation-2/<http:/ar.dbpedia.org/resource/أضواء_المدينة_(فيلم)> <http:/www.w3.org/1999/02/22-rdf-syntax-ns does not look like a valid URI, trying to serialize this will break.\n"
     ]
    },
    {
     "name": "stderr",
     "output_type": "stream",
     "text": [
      "WARNING:rdflib.term:file:///Users/Play/Code/AI/knowledge-representation-2/<http:/ar.dbpedia.org/resource/أطفال_السماء_(فيلم)> <http:/www.w3.org/1999/02/22-rdf-syntax-ns#type> <http://dbpedia.org/ontology/Film> .\n does not look like a valid URI, trying to serialize this will break.\n"
     ]
    },
    {
     "name": "stderr",
     "output_type": "stream",
     "text": [
      "WARNING:rdflib.term:file:///Users/Play/Code/AI/knowledge-representation-2/<http:/ar.dbpedia.org/resource/أطفال_السماء_(فيلم)> <http:/www.w3.org/1999/02/22-rdf-syntax-ns does not look like a valid URI, trying to serialize this will break.\n"
     ]
    },
    {
     "name": "stderr",
     "output_type": "stream",
     "text": [
      "WARNING:rdflib.term:file:///Users/Play/Code/AI/knowledge-representation-2/<http:/ar.dbpedia.org/resource/أطلانتس:_الإمبراطورية_المفقودة> <http:/www.w3.org/1999/02/22-rdf-syntax-ns#type> <http://dbpedia.org/ontology/Film> .\n does not look like a valid URI, trying to serialize this will break.\n"
     ]
    },
    {
     "name": "stderr",
     "output_type": "stream",
     "text": [
      "WARNING:rdflib.term:file:///Users/Play/Code/AI/knowledge-representation-2/<http:/ar.dbpedia.org/resource/أطلانتس:_الإمبراطورية_المفقودة> <http:/www.w3.org/1999/02/22-rdf-syntax-ns does not look like a valid URI, trying to serialize this will break.\n"
     ]
    },
    {
     "name": "stderr",
     "output_type": "stream",
     "text": [
      "WARNING:rdflib.term:file:///Users/Play/Code/AI/knowledge-representation-2/<http:/ar.dbpedia.org/resource/أعداء_الشعب_(فيلم)> <http:/www.w3.org/1999/02/22-rdf-syntax-ns#type> <http://dbpedia.org/ontology/Film> .\n does not look like a valid URI, trying to serialize this will break.\n"
     ]
    },
    {
     "name": "stderr",
     "output_type": "stream",
     "text": [
      "WARNING:rdflib.term:file:///Users/Play/Code/AI/knowledge-representation-2/<http:/ar.dbpedia.org/resource/أعداء_الشعب_(فيلم)> <http:/www.w3.org/1999/02/22-rdf-syntax-ns does not look like a valid URI, trying to serialize this will break."
     ]
    },
    {
     "name": "stderr",
     "output_type": "stream",
     "text": [
      "\n"
     ]
    },
    {
     "name": "stderr",
     "output_type": "stream",
     "text": [
      "WARNING:rdflib.term:file:///Users/Play/Code/AI/knowledge-representation-2/<http:/ar.dbpedia.org/resource/أعز_أصحاب_(فيلم)> <http:/www.w3.org/1999/02/22-rdf-syntax-ns#type> <http://dbpedia.org/ontology/Film> .\n does not look like a valid URI, trying to serialize this will break."
     ]
    },
    {
     "name": "stderr",
     "output_type": "stream",
     "text": [
      "\n"
     ]
    },
    {
     "name": "stderr",
     "output_type": "stream",
     "text": [
      "WARNING:rdflib.term:file:///Users/Play/Code/AI/knowledge-representation-2/<http:/ar.dbpedia.org/resource/أعز_أصحاب_(فيلم)> <http:/www.w3.org/1999/02/22-rdf-syntax-ns does not look like a valid URI, trying to serialize this will break.\n"
     ]
    },
    {
     "name": "stderr",
     "output_type": "stream",
     "text": [
      "WARNING:rdflib.term:file:///Users/Play/Code/AI/knowledge-representation-2/<http:/ar.dbpedia.org/resource/أغلى_من_حياتي_(فيلم)> <http:/www.w3.org/1999/02/22-rdf-syntax-ns#type> <http://dbpedia.org/ontology/Film> .\n does not look like a valid URI, trying to serialize this will break.\n"
     ]
    },
    {
     "name": "stderr",
     "output_type": "stream",
     "text": [
      "WARNING:rdflib.term:file:///Users/Play/Code/AI/knowledge-representation-2/<http:/ar.dbpedia.org/resource/أغلى_من_حياتي_(فيلم)> <http:/www.w3.org/1999/02/22-rdf-syntax-ns does not look like a valid URI, trying to serialize this will break.\n"
     ]
    },
    {
     "name": "stderr",
     "output_type": "stream",
     "text": [
      "WARNING:rdflib.term:file:///Users/Play/Code/AI/knowledge-representation-2/<http:/ar.dbpedia.org/resource/أغنية_السجن_(فيلم)> <http:/www.w3.org/1999/02/22-rdf-syntax-ns#type> <http://dbpedia.org/ontology/Film> .\n does not look like a valid URI, trying to serialize this will break.\n"
     ]
    },
    {
     "name": "stderr",
     "output_type": "stream",
     "text": [
      "WARNING:rdflib.term:file:///Users/Play/Code/AI/knowledge-representation-2/<http:/ar.dbpedia.org/resource/أغنية_السجن_(فيلم)> <http:/www.w3.org/1999/02/22-rdf-syntax-ns does not look like a valid URI, trying to serialize this will break.\n"
     ]
    },
    {
     "name": "stderr",
     "output_type": "stream",
     "text": [
      "WARNING:rdflib.term:file:///Users/Play/Code/AI/knowledge-representation-2/<http:/ar.dbpedia.org/resource/أغنية_على_الممر_(فيلم)> <http:/www.w3.org/1999/02/22-rdf-syntax-ns#type> <http://dbpedia.org/ontology/Film> .\n does not look like a valid URI, trying to serialize this will break.\n"
     ]
    },
    {
     "name": "stderr",
     "output_type": "stream",
     "text": [
      "WARNING:rdflib.term:file:///Users/Play/Code/AI/knowledge-representation-2/<http:/ar.dbpedia.org/resource/أغنية_على_الممر_(فيلم)> <http:/www.w3.org/1999/02/22-rdf-syntax-ns does not look like a valid URI, trying to serialize this will break.\n"
     ]
    },
    {
     "name": "stderr",
     "output_type": "stream",
     "text": [
      "WARNING:rdflib.term:file:///Users/Play/Code/AI/knowledge-representation-2/<http:/ar.dbpedia.org/resource/أفاتار_(فيلم_2009)> <http:/www.w3.org/1999/02/22-rdf-syntax-ns#type> <http://dbpedia.org/ontology/Film> .\n does not look like a valid URI, trying to serialize this will break.\n"
     ]
    },
    {
     "name": "stderr",
     "output_type": "stream",
     "text": [
      "WARNING:rdflib.term:file:///Users/Play/Code/AI/knowledge-representation-2/<http:/ar.dbpedia.org/resource/أفاتار_(فيلم_2009)> <http:/www.w3.org/1999/02/22-rdf-syntax-ns does not look like a valid URI, trying to serialize this will break.\n"
     ]
    },
    {
     "name": "stderr",
     "output_type": "stream",
     "text": [
      "WARNING:rdflib.term:file:///Users/Play/Code/AI/knowledge-representation-2/<http:/ar.dbpedia.org/resource/أفضل_ما_يمكن_حصوله_(فيلم)> <http:/www.w3.org/1999/02/22-rdf-syntax-ns#type> <http://dbpedia.org/ontology/Film> .\n does not look like a valid URI, trying to serialize this will break."
     ]
    },
    {
     "name": "stderr",
     "output_type": "stream",
     "text": [
      "\n"
     ]
    },
    {
     "name": "stderr",
     "output_type": "stream",
     "text": [
      "WARNING:rdflib.term:file:///Users/Play/Code/AI/knowledge-representation-2/<http:/ar.dbpedia.org/resource/أفضل_ما_يمكن_حصوله_(فيلم)> <http:/www.w3.org/1999/02/22-rdf-syntax-ns does not look like a valid URI, trying to serialize this will break.\n"
     ]
    },
    {
     "name": "stderr",
     "output_type": "stream",
     "text": [
      "WARNING:rdflib.term:file:///Users/Play/Code/AI/knowledge-representation-2/<http:/ar.dbpedia.org/resource/أفغانستان_لماذا_(فيلم)> <http:/www.w3.org/1999/02/22-rdf-syntax-ns#type> <http://dbpedia.org/ontology/Film> .\n does not look like a valid URI, trying to serialize this will break.\n"
     ]
    },
    {
     "name": "stderr",
     "output_type": "stream",
     "text": [
      "WARNING:rdflib.term:file:///Users/Play/Code/AI/knowledge-representation-2/<http:/ar.dbpedia.org/resource/أفغانستان_لماذا_(فيلم)> <http:/www.w3.org/1999/02/22-rdf-syntax-ns does not look like a valid URI, trying to serialize this will break.\n"
     ]
    },
    {
     "name": "stderr",
     "output_type": "stream",
     "text": [
      "WARNING:rdflib.term:file:///Users/Play/Code/AI/knowledge-representation-2/<http:/ar.dbpedia.org/resource/أفواه_وأرانب_(فيلم)> <http:/www.w3.org/1999/02/22-rdf-syntax-ns#type> <http://dbpedia.org/ontology/Film> .\n does not look like a valid URI, trying to serialize this will break.\n"
     ]
    },
    {
     "name": "stderr",
     "output_type": "stream",
     "text": [
      "WARNING:rdflib.term:file:///Users/Play/Code/AI/knowledge-representation-2/<http:/ar.dbpedia.org/resource/أفواه_وأرانب_(فيلم)> <http:/www.w3.org/1999/02/22-rdf-syntax-ns does not look like a valid URI, trying to serialize this will break.\n"
     ]
    },
    {
     "name": "stderr",
     "output_type": "stream",
     "text": [
      "WARNING:rdflib.term:file:///Users/Play/Code/AI/knowledge-representation-2/<http:/ar.dbpedia.org/resource/أكاذيب_حواء_(فيلم)> <http:/www.w3.org/1999/02/22-rdf-syntax-ns#type> <http://dbpedia.org/ontology/Film> .\n does not look like a valid URI, trying to serialize this will break.\n"
     ]
    },
    {
     "name": "stderr",
     "output_type": "stream",
     "text": [
      "WARNING:rdflib.term:file:///Users/Play/Code/AI/knowledge-representation-2/<http:/ar.dbpedia.org/resource/أكاذيب_حواء_(فيلم)> <http:/www.w3.org/1999/02/22-rdf-syntax-ns does not look like a valid URI, trying to serialize this will break.\n"
     ]
    },
    {
     "name": "stderr",
     "output_type": "stream",
     "text": [
      "WARNING:rdflib.term:file:///Users/Play/Code/AI/knowledge-representation-2/<http:/ar.dbpedia.org/resource/أل_سيمبسون_(فيلم)> <http:/www.w3.org/1999/02/22-rdf-syntax-ns#type> <http://dbpedia.org/ontology/Film> .\n does not look like a valid URI, trying to serialize this will break.\n"
     ]
    },
    {
     "name": "stderr",
     "output_type": "stream",
     "text": [
      "WARNING:rdflib.term:file:///Users/Play/Code/AI/knowledge-representation-2/<http:/ar.dbpedia.org/resource/أل_سيمبسون_(فيلم)> <http:/www.w3.org/1999/02/22-rdf-syntax-ns does not look like a valid URI, trying to serialize this will break.\n"
     ]
    },
    {
     "name": "stderr",
     "output_type": "stream",
     "text": [
      "WARNING:rdflib.term:file:///Users/Play/Code/AI/knowledge-representation-2/<http:/ar.dbpedia.org/resource/ألف_شهر_(فيلم)> <http:/www.w3.org/1999/02/22-rdf-syntax-ns#type> <http://dbpedia.org/ontology/Film> .\n does not look like a valid URI, trying to serialize this will break.\n"
     ]
    },
    {
     "name": "stderr",
     "output_type": "stream",
     "text": [
      "WARNING:rdflib.term:file:///Users/Play/Code/AI/knowledge-representation-2/<http:/ar.dbpedia.org/resource/ألف_شهر_(فيلم)> <http:/www.w3.org/1999/02/22-rdf-syntax-ns does not look like a valid URI, trying to serialize this will break.\n"
     ]
    },
    {
     "name": "stderr",
     "output_type": "stream",
     "text": [
      "WARNING:rdflib.term:file:///Users/Play/Code/AI/knowledge-representation-2/<http:/ar.dbpedia.org/resource/ألف_ليلة_وليلة_(فيلم_1964)> <http:/www.w3.org/1999/02/22-rdf-syntax-ns#type> <http://dbpedia.org/ontology/Film> .\n does not look like a valid URI, trying to serialize this will break.\n"
     ]
    },
    {
     "name": "stderr",
     "output_type": "stream",
     "text": [
      "WARNING:rdflib.term:file:///Users/Play/Code/AI/knowledge-representation-2/<http:/ar.dbpedia.org/resource/ألف_ليلة_وليلة_(فيلم_1964)> <http:/www.w3.org/1999/02/22-rdf-syntax-ns does not look like a valid URI, trying to serialize this will break.\n"
     ]
    },
    {
     "name": "stderr",
     "output_type": "stream",
     "text": [
      "WARNING:rdflib.term:file:///Users/Play/Code/AI/knowledge-representation-2/<http:/ar.dbpedia.org/resource/ألف_يد_و_يد_(فيلم)> <http:/www.w3.org/1999/02/22-rdf-syntax-ns#type> <http://dbpedia.org/ontology/Film> .\n does not look like a valid URI, trying to serialize this will break.\n"
     ]
    },
    {
     "name": "stderr",
     "output_type": "stream",
     "text": [
      "WARNING:rdflib.term:file:///Users/Play/Code/AI/knowledge-representation-2/<http:/ar.dbpedia.org/resource/ألف_يد_و_يد_(فيلم)> <http:/www.w3.org/1999/02/22-rdf-syntax-ns does not look like a valid URI, trying to serialize this will break.\n"
     ]
    },
    {
     "name": "stderr",
     "output_type": "stream",
     "text": [
      "WARNING:rdflib.term:file:///Users/Play/Code/AI/knowledge-representation-2/<http:/ar.dbpedia.org/resource/ألوان_السما_السبعة> <http:/www.w3.org/1999/02/22-rdf-syntax-ns#type> <http://dbpedia.org/ontology/Film> .\n does not look like a valid URI, trying to serialize this will break.\n"
     ]
    },
    {
     "name": "stderr",
     "output_type": "stream",
     "text": [
      "WARNING:rdflib.term:file:///Users/Play/Code/AI/knowledge-representation-2/<http:/ar.dbpedia.org/resource/ألوان_السما_السبعة> <http:/www.w3.org/1999/02/22-rdf-syntax-ns does not look like a valid URI, trying to serialize this will break.\n"
     ]
    },
    {
     "name": "stderr",
     "output_type": "stream",
     "text": [
      "WARNING:rdflib.term:file:///Users/Play/Code/AI/knowledge-representation-2/<http:/ar.dbpedia.org/resource/ألوان_السما_السبعة_(فيلم)> <http:/www.w3.org/1999/02/22-rdf-syntax-ns#type> <http://dbpedia.org/ontology/Film> .\n does not look like a valid URI, trying to serialize this will break.\n"
     ]
    },
    {
     "name": "stderr",
     "output_type": "stream",
     "text": [
      "WARNING:rdflib.term:file:///Users/Play/Code/AI/knowledge-representation-2/<http:/ar.dbpedia.org/resource/ألوان_السما_السبعة_(فيلم)> <http:/www.w3.org/1999/02/22-rdf-syntax-ns does not look like a valid URI, trying to serialize this will break.\n"
     ]
    }
   ],
   "source": [
    "graph = rdflib.Graph()\n",
    "for line in open('Milestone 2/Data/LodALot/DBPediaFilmTriples.nt', 'r').readlines():\n",
    "    try:\n",
    "        graph += rdflib.Graph().parse(source=line, format='nt')\n",
    "    except Exception as e:\n",
    "        print(e)\n",
    "pickle.dump(graph, open('DBPediaFilmGraph.pkl', 'wb+'))"
   ]
  },
  {
   "cell_type": "code",
   "execution_count": null,
   "metadata": {},
   "outputs": [],
   "source": []
  }
 ],
 "metadata": {
  "kernelspec": {
   "display_name": "Python 2",
   "language": "python",
   "name": "python2"
  },
  "language_info": {
   "codemirror_mode": {
    "name": "ipython",
    "version": 2
   },
   "file_extension": ".py",
   "mimetype": "text/x-python",
   "name": "python",
   "nbconvert_exporter": "python",
   "pygments_lexer": "ipython2",
   "version": "2.7.6"
  }
 },
 "nbformat": 4,
 "nbformat_minor": 0
}
